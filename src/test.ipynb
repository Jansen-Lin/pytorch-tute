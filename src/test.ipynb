{
 "cells": [
  {
   "cell_type": "code",
   "execution_count": 1,
   "metadata": {
    "collapsed": true
   },
   "outputs": [],
   "source": [
    "import torch\n",
    "import torch.nn.functional as F\n",
    "import matplotlib.pyplot as plt"
   ]
  },
  {
   "cell_type": "code",
   "execution_count": 2,
   "outputs": [
    {
     "data": {
      "text/plain": "tensor([[-0.6028, -0.1208, -0.4323,  1.8811],\n        [-0.7158,  0.0026,  0.2056,  0.5626],\n        [ 0.2795, -1.0873,  0.0613,  0.9088],\n        [-0.4134, -0.1937, -2.1826,  0.7185]])"
     },
     "execution_count": 2,
     "metadata": {},
     "output_type": "execute_result"
    }
   ],
   "source": [
    "torch.manual_seed(101)\n",
    "\n",
    "x = torch.randn(4, 4)\n",
    "x"
   ],
   "metadata": {
    "collapsed": false,
    "pycharm": {
     "name": "#%%\n"
    }
   }
  },
  {
   "cell_type": "code",
   "execution_count": 3,
   "outputs": [
    {
     "data": {
      "text/plain": "torch.return_types.max(\nvalues=tensor([1.8811, 0.5626, 0.9088, 0.7185]),\nindices=tensor([3, 3, 3, 3]))"
     },
     "execution_count": 3,
     "metadata": {},
     "output_type": "execute_result"
    }
   ],
   "source": [
    "mx = torch.max(x.data, dim=1)\n",
    "mx\n",
    "\n",
    "# torch.max(x, 0)   # Reduce across rows.\n",
    "# torch.max(x, 1)   # Reduce across columns."
   ],
   "metadata": {
    "collapsed": false,
    "pycharm": {
     "name": "#%%\n"
    }
   }
  },
  {
   "cell_type": "code",
   "execution_count": 4,
   "outputs": [
    {
     "name": "stdout",
     "output_type": "stream",
     "text": [
      "tensor([[ 0.0000,  1.0204,  2.0408,  3.0612,  4.0816],\n",
      "        [ 5.1020,  6.1224,  7.1429,  8.1633,  9.1837],\n",
      "        [10.2041, 11.2245, 12.2449, 13.2653, 14.2857],\n",
      "        [15.3061, 16.3265, 17.3469, 18.3673, 19.3878],\n",
      "        [20.4082, 21.4286, 22.4490, 23.4694, 24.4898],\n",
      "        [25.5102, 26.5306, 27.5510, 28.5714, 29.5918],\n",
      "        [30.6122, 31.6327, 32.6531, 33.6735, 34.6939],\n",
      "        [35.7143, 36.7347, 37.7551, 38.7755, 39.7959],\n",
      "        [40.8163, 41.8367, 42.8571, 43.8776, 44.8980],\n",
      "        [45.9184, 46.9388, 47.9592, 48.9796, 50.0000]])\n",
      "tensor([[ 50.0000,  51.0204,  52.0408,  53.0612,  54.0816],\n",
      "        [ 55.1020,  56.1224,  57.1429,  58.1633,  59.1837],\n",
      "        [ 60.2041,  61.2245,  62.2449,  63.2653,  64.2857],\n",
      "        [ 65.3061,  66.3265,  67.3469,  68.3673,  69.3878],\n",
      "        [ 70.4082,  71.4286,  72.4490,  73.4694,  74.4898],\n",
      "        [ 75.5102,  76.5306,  77.5510,  78.5714,  79.5918],\n",
      "        [ 80.6122,  81.6327,  82.6531,  83.6735,  84.6939],\n",
      "        [ 85.7143,  86.7347,  87.7551,  88.7755,  89.7959],\n",
      "        [ 90.8163,  91.8367,  92.8571,  93.8775,  94.8980],\n",
      "        [ 95.9184,  96.9388,  97.9592,  98.9796, 100.0000]])\n"
     ]
    }
   ],
   "source": [
    "a = torch.linspace(0, 50, 50).reshape(10, -1)\n",
    "b = torch.linspace(50, 100, 50).reshape(10, -1)\n",
    "\n",
    "print(a)\n",
    "print(b)"
   ],
   "metadata": {
    "collapsed": false,
    "pycharm": {
     "name": "#%%\n"
    }
   }
  },
  {
   "cell_type": "code",
   "execution_count": 5,
   "outputs": [
    {
     "name": "stdout",
     "output_type": "stream",
     "text": [
      "tensor([[  0.0000,   1.0204,   2.0408,   3.0612,   4.0816,  50.0000,  51.0204,\n",
      "          52.0408,  53.0612,  54.0816],\n",
      "        [  5.1020,   6.1224,   7.1429,   8.1633,   9.1837,  55.1020,  56.1224,\n",
      "          57.1429,  58.1633,  59.1837],\n",
      "        [ 10.2041,  11.2245,  12.2449,  13.2653,  14.2857,  60.2041,  61.2245,\n",
      "          62.2449,  63.2653,  64.2857],\n",
      "        [ 15.3061,  16.3265,  17.3469,  18.3673,  19.3878,  65.3061,  66.3265,\n",
      "          67.3469,  68.3673,  69.3878],\n",
      "        [ 20.4082,  21.4286,  22.4490,  23.4694,  24.4898,  70.4082,  71.4286,\n",
      "          72.4490,  73.4694,  74.4898],\n",
      "        [ 25.5102,  26.5306,  27.5510,  28.5714,  29.5918,  75.5102,  76.5306,\n",
      "          77.5510,  78.5714,  79.5918],\n",
      "        [ 30.6122,  31.6327,  32.6531,  33.6735,  34.6939,  80.6122,  81.6327,\n",
      "          82.6531,  83.6735,  84.6939],\n",
      "        [ 35.7143,  36.7347,  37.7551,  38.7755,  39.7959,  85.7143,  86.7347,\n",
      "          87.7551,  88.7755,  89.7959],\n",
      "        [ 40.8163,  41.8367,  42.8571,  43.8776,  44.8980,  90.8163,  91.8367,\n",
      "          92.8571,  93.8775,  94.8980],\n",
      "        [ 45.9184,  46.9388,  47.9592,  48.9796,  50.0000,  95.9184,  96.9388,\n",
      "          97.9592,  98.9796, 100.0000]])\n"
     ]
    }
   ],
   "source": [
    "c = torch.cat([a, b], dim=1)\n",
    "print(c)"
   ],
   "metadata": {
    "collapsed": false,
    "pycharm": {
     "name": "#%%\n"
    }
   }
  },
  {
   "cell_type": "code",
   "execution_count": 6,
   "outputs": [
    {
     "name": "stdout",
     "output_type": "stream",
     "text": [
      "tensor([[ 0.0000,  1.0204,  2.0408,  3.0612,  4.0816],\n",
      "        [ 5.1020,  6.1224,  7.1429,  8.1633,  9.1837],\n",
      "        [10.2041, 11.2245, 12.2449, 13.2653, 14.2857],\n",
      "        [15.3061, 16.3265, 17.3469, 18.3673, 19.3878],\n",
      "        [20.4082, 21.4286, 22.4490, 23.4694, 24.4898],\n",
      "        [25.5102, 26.5306, 27.5510, 28.5714, 29.5918],\n",
      "        [30.6122, 31.6327, 32.6531, 33.6735, 34.6939],\n",
      "        [35.7143, 36.7347, 37.7551, 38.7755, 39.7959],\n",
      "        [40.8163, 41.8367, 42.8571, 43.8776, 44.8980],\n",
      "        [45.9184, 46.9388, 47.9592, 48.9796, 50.0000]])\n",
      "tensor([[-4.5225, -3.5021, -2.4817, -1.4613, -0.4409],\n",
      "        [-4.5225, -3.5021, -2.4817, -1.4613, -0.4409],\n",
      "        [-4.5225, -3.5021, -2.4817, -1.4613, -0.4409],\n",
      "        [-4.5225, -3.5021, -2.4817, -1.4613, -0.4409],\n",
      "        [-4.5225, -3.5021, -2.4817, -1.4613, -0.4409],\n",
      "        [-4.5225, -3.5021, -2.4817, -1.4613, -0.4409],\n",
      "        [-4.5225, -3.5021, -2.4817, -1.4613, -0.4409],\n",
      "        [-4.5225, -3.5021, -2.4817, -1.4613, -0.4409],\n",
      "        [-4.5225, -3.5021, -2.4817, -1.4613, -0.4409],\n",
      "        [-4.5225, -3.5021, -2.4817, -1.4613, -0.4409]])\n"
     ]
    }
   ],
   "source": [
    "d = F.log_softmax(a, dim=1)\n",
    "print(a)\n",
    "print(d)"
   ],
   "metadata": {
    "collapsed": false,
    "pycharm": {
     "name": "#%%\n"
    }
   }
  },
  {
   "cell_type": "code",
   "execution_count": 16,
   "outputs": [
    {
     "name": "stdout",
     "output_type": "stream",
     "text": [
      "tensor([[ 0.0000,  1.1111],\n",
      "        [ 2.2222,  3.3333],\n",
      "        [ 4.4444,  5.5556],\n",
      "        [ 6.6667,  7.7778],\n",
      "        [ 8.8889, 10.0000]])\n",
      "(2, 1)\n",
      "True\n"
     ]
    }
   ],
   "source": [
    "x = torch.linspace(0, 10, 10).view(5, -1)\n",
    "print(x)\n",
    "print(x.stride())\n",
    "print(x.is_contiguous())"
   ],
   "metadata": {
    "collapsed": false,
    "pycharm": {
     "name": "#%%\n"
    }
   }
  },
  {
   "cell_type": "code",
   "execution_count": 21,
   "outputs": [
    {
     "name": "stdout",
     "output_type": "stream",
     "text": [
      "tensor([[ 0.0000,  2.2222,  4.4444,  6.6667,  8.8889],\n",
      "        [ 1.1111,  3.3333,  5.5556,  7.7778, 10.0000]])\n",
      "(1, 2)\n",
      "False\n"
     ]
    },
    {
     "ename": "RuntimeError",
     "evalue": "view size is not compatible with input tensor's size and stride (at least one dimension spans across two contiguous subspaces). Use .reshape(...) instead.",
     "output_type": "error",
     "traceback": [
      "\u001B[1;31m---------------------------------------------------------------------------\u001B[0m",
      "\u001B[1;31mRuntimeError\u001B[0m                              Traceback (most recent call last)",
      "\u001B[1;32m<ipython-input-21-0c61cb10eab4>\u001B[0m in \u001B[0;36m<module>\u001B[1;34m\u001B[0m\n\u001B[0;32m      4\u001B[0m \u001B[0mprint\u001B[0m\u001B[1;33m(\u001B[0m\u001B[0mx\u001B[0m\u001B[1;33m.\u001B[0m\u001B[0mis_contiguous\u001B[0m\u001B[1;33m(\u001B[0m\u001B[1;33m)\u001B[0m\u001B[1;33m)\u001B[0m\u001B[1;33m\u001B[0m\u001B[1;33m\u001B[0m\u001B[0m\n\u001B[0;32m      5\u001B[0m \u001B[1;33m\u001B[0m\u001B[0m\n\u001B[1;32m----> 6\u001B[1;33m \u001B[0mprint\u001B[0m\u001B[1;33m(\u001B[0m\u001B[0mx\u001B[0m\u001B[1;33m.\u001B[0m\u001B[0mview\u001B[0m\u001B[1;33m(\u001B[0m\u001B[1;33m-\u001B[0m\u001B[1;36m1\u001B[0m\u001B[1;33m)\u001B[0m\u001B[1;33m)\u001B[0m\u001B[1;33m\u001B[0m\u001B[1;33m\u001B[0m\u001B[0m\n\u001B[0m\u001B[0;32m      7\u001B[0m \u001B[1;33m\u001B[0m\u001B[0m\n",
      "\u001B[1;31mRuntimeError\u001B[0m: view size is not compatible with input tensor's size and stride (at least one dimension spans across two contiguous subspaces). Use .reshape(...) instead."
     ]
    }
   ],
   "source": [
    "x = x.t()   # Transpose the tensor.\n",
    "print(x)\n",
    "print(x.stride())\n",
    "print(x.is_contiguous())\n",
    "\n",
    "print(x.view(-1))   # Cannot flatten the tensor because of non-contiguous."
   ],
   "metadata": {
    "collapsed": false,
    "pycharm": {
     "name": "#%%\n"
    }
   }
  },
  {
   "cell_type": "code",
   "execution_count": 24,
   "outputs": [
    {
     "name": "stdout",
     "output_type": "stream",
     "text": [
      "tensor([[ 0.0000,  2.2222,  4.4444,  6.6667,  8.8889],\n",
      "        [ 1.1111,  3.3333,  5.5556,  7.7778, 10.0000]])\n",
      "(5, 1)\n",
      "tensor([ 0.0000,  2.2222,  4.4444,  6.6667,  8.8889,  1.1111,  3.3333,  5.5556,\n",
      "         7.7778, 10.0000])\n"
     ]
    }
   ],
   "source": [
    "# So make it contiguous.\n",
    "x = x.contiguous()\n",
    "print(x)\n",
    "print(x.stride())\n",
    "print(x.view(-1))"
   ],
   "metadata": {
    "collapsed": false,
    "pycharm": {
     "name": "#%%\n"
    }
   }
  },
  {
   "cell_type": "code",
   "execution_count": null,
   "outputs": [],
   "source": [
    "\n"
   ],
   "metadata": {
    "collapsed": false,
    "pycharm": {
     "name": "#%%\n"
    }
   }
  }
 ],
 "metadata": {
  "kernelspec": {
   "name": "pycharm-a503b19",
   "language": "python",
   "display_name": "PyCharm (pytorch-tute)"
  },
  "language_info": {
   "codemirror_mode": {
    "name": "ipython",
    "version": 2
   },
   "file_extension": ".py",
   "mimetype": "text/x-python",
   "name": "python",
   "nbconvert_exporter": "python",
   "pygments_lexer": "ipython2",
   "version": "2.7.6"
  }
 },
 "nbformat": 4,
 "nbformat_minor": 0
}