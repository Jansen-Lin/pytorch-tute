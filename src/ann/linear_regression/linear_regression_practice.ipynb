{
 "cells": [
  {
   "cell_type": "code",
   "execution_count": 99,
   "metadata": {
    "collapsed": true
   },
   "outputs": [],
   "source": [
    "import torch\n",
    "import torch.nn as nn\n",
    "import matplotlib.pyplot as plt\n"
   ]
  },
  {
   "cell_type": "code",
   "execution_count": 100,
   "outputs": [],
   "source": [
    "X = torch.linspace(0., 50., 50).reshape(-1, 1)\n",
    "\n",
    "torch.manual_seed(71)\n",
    "\n",
    "e = torch.randint(-8, 9, (50, 1))\n",
    "y = 2 * X + 1 + e"
   ],
   "metadata": {
    "collapsed": false,
    "pycharm": {
     "name": "#%%\n"
    }
   }
  },
  {
   "cell_type": "code",
   "execution_count": 101,
   "outputs": [
    {
     "data": {
      "text/plain": "<matplotlib.collections.PathCollection at 0x14f20aac7c0>"
     },
     "execution_count": 101,
     "metadata": {},
     "output_type": "execute_result"
    },
    {
     "data": {
      "text/plain": "<Figure size 432x288 with 1 Axes>",
      "image/png": "[encoded data removed]"
     },
     "metadata": {
      "needs_background": "light"
     },
     "output_type": "display_data"
    }
   ],
   "source": [
    "plt.scatter(X.numpy(), y.numpy())"
   ],
   "metadata": {
    "collapsed": false,
    "pycharm": {
     "name": "#%%\n"
    }
   }
  },
  {
   "cell_type": "code",
   "execution_count": 102,
   "outputs": [],
   "source": [
    "class Model(nn.Module):\n",
    "\n",
    "    def __init__(self, in_features, out_features):\n",
    "        super().__init__()\n",
    "        self.linear = nn.Linear(in_features, out_features)\n",
    "\n",
    "    def forward(self, x):\n",
    "        return self.linear(x)\n",
    "\n",
    "model = Model(1, 1)"
   ],
   "metadata": {
    "collapsed": false,
    "pycharm": {
     "name": "#%%\n"
    }
   }
  },
  {
   "cell_type": "code",
   "execution_count": 103,
   "outputs": [
    {
     "name": "stdout",
     "output_type": "stream",
     "text": [
      "epoch 1 loss: 5645.17236328125, weight: -0.5688724517822266, bias: -0.03454399108886719\n",
      "epoch 2 loss: 2661.779296875, weight: 3.782527446746826, bias: 0.09596872329711914\n",
      "epoch 3 loss: 1261.2470703125, weight: 0.8010659217834473, bias: 0.008650414645671844\n",
      "epoch 4 loss: 603.7781372070312, weight: 2.843777894973755, bias: 0.07057981193065643\n",
      "epoch 5 loss: 295.1327819824219, weight: 1.4441331624984741, bias: 0.030249763280153275\n",
      "epoch 6 loss: 150.24081420898438, weight: 2.4030494689941406, bias: 0.05998260900378227\n",
      "epoch 7 loss: 82.22157287597656, weight: 1.7459771633148193, bias: 0.04171016812324524\n",
      "epoch 8 loss: 50.28962707519531, weight: 2.1961138248443604, bias: 0.05632789060473442\n",
      "epoch 9 loss: 35.2985725402832, weight: 1.887636423110962, bias: 0.04840954393148422\n",
      "epoch 10 loss: 28.26031494140625, weight: 2.0989301204681396, bias: 0.05593090504407883\n",
      "epoch 11 loss: 24.955442428588867, weight: 1.954098105430603, bias: 0.052872538566589355\n",
      "epoch 12 loss: 23.403165817260742, weight: 2.0532689094543457, bias: 0.05706188827753067\n",
      "epoch 13 loss: 22.673643112182617, weight: 1.9852590560913086, bias: 0.05628431960940361\n",
      "epoch 14 loss: 22.33035659790039, weight: 2.031794309616089, bias: 0.058908797800540924\n",
      "epoch 15 loss: 22.16838836669922, weight: 1.9998482465744019, bias: 0.05920126661658287\n",
      "epoch 16 loss: 22.091541290283203, weight: 2.021674156188965, bias: 0.06109045073390007\n",
      "epoch 17 loss: 22.054651260375977, weight: 2.0066580772399902, bias: 0.0618845634162426\n",
      "epoch 18 loss: 22.036523818969727, weight: 2.0168845653533936, bias: 0.0634278953075409\n",
      "epoch 19 loss: 22.027196884155273, weight: 2.0098156929016113, bias: 0.06445681303739548\n",
      "epoch 20 loss: 22.022001266479492, weight: 2.014597177505493, bias: 0.06583711504936218\n",
      "epoch 21 loss: 22.018766403198242, weight: 2.011259078979492, bias: 0.06697558611631393\n",
      "epoch 22 loss: 22.01642608642578, weight: 2.013484239578247, bias: 0.06827867776155472\n",
      "epoch 23 loss: 22.0145206451416, weight: 2.0118980407714844, bias: 0.06946790963411331\n",
      "epoch 24 loss: 22.012815475463867, weight: 2.012923002243042, bias: 0.07073407620191574\n",
      "epoch 25 loss: 22.011211395263672, weight: 2.0121588706970215, bias: 0.07194645702838898\n",
      "epoch 26 loss: 22.00965118408203, weight: 2.012620687484741, bias: 0.07319462299346924\n",
      "epoch 27 loss: 22.008108139038086, weight: 2.012242317199707, bias: 0.07441719621419907\n",
      "epoch 28 loss: 22.00658416748047, weight: 2.0124399662017822, bias: 0.07565624266862869\n",
      "epoch 29 loss: 22.005064010620117, weight: 2.0122430324554443, bias: 0.07688293606042862\n",
      "epoch 30 loss: 22.0035400390625, weight: 2.0123162269592285, bias: 0.0781170204281807\n",
      "epoch 31 loss: 22.002029418945312, weight: 2.01220440864563, bias: 0.0793449729681015\n",
      "epoch 32 loss: 22.00051498413086, weight: 2.0122194290161133, bias: 0.08057606220245361\n",
      "epoch 33 loss: 21.999006271362305, weight: 2.0121476650238037, bias: 0.08180394023656845\n",
      "epoch 34 loss: 21.997495651245117, weight: 2.0121355056762695, bias: 0.08303295075893402\n",
      "epoch 35 loss: 21.995988845825195, weight: 2.01208233833313, bias: 0.08426011353731155\n",
      "epoch 36 loss: 21.994483947753906, weight: 2.012057304382324, bias: 0.0854874774813652\n",
      "epoch 37 loss: 21.992979049682617, weight: 2.0120129585266113, bias: 0.08671363443136215\n",
      "epoch 38 loss: 21.991466522216797, weight: 2.011981964111328, bias: 0.0879395604133606\n",
      "epoch 39 loss: 21.989971160888672, weight: 2.011941909790039, bias: 0.08916458487510681\n",
      "epoch 40 loss: 21.988473892211914, weight: 2.0119080543518066, bias: 0.09038916230201721\n",
      "epoch 41 loss: 21.98697280883789, weight: 2.0118699073791504, bias: 0.09161297976970673\n",
      "epoch 42 loss: 21.985475540161133, weight: 2.0118348598480225, bias: 0.09283626079559326\n",
      "epoch 43 loss: 21.98397445678711, weight: 2.0117976665496826, bias: 0.09405884891748428\n",
      "epoch 44 loss: 21.982484817504883, weight: 2.0117621421813965, bias: 0.09528084844350815\n",
      "epoch 45 loss: 21.98099136352539, weight: 2.0117249488830566, bias: 0.09650217741727829\n",
      "epoch 46 loss: 21.9794979095459, weight: 2.0116894245147705, bias: 0.09772292524576187\n",
      "epoch 47 loss: 21.978012084960938, weight: 2.011652708053589, bias: 0.09894300997257233\n",
      "epoch 48 loss: 21.976524353027344, weight: 2.0116167068481445, bias: 0.10016248375177383\n",
      "epoch 49 loss: 21.97503662109375, weight: 2.011580467224121, bias: 0.1013813242316246\n",
      "epoch 50 loss: 21.973548889160156, weight: 2.0115442276000977, bias: 0.10259953886270523\n"
     ]
    }
   ],
   "source": [
    "epochs = 50\n",
    "losses = []\n",
    "\n",
    "criterion = nn.MSELoss()\n",
    "optimizer = torch.optim.SGD(model.parameters(), lr=0.001)\n",
    "\n",
    "for i in range(epochs):\n",
    "    i += 1\n",
    "\n",
    "    y_pred = model.forward(X)\n",
    "\n",
    "    loss = criterion(y_pred, y)\n",
    "\n",
    "    losses.append(loss)\n",
    "\n",
    "    print(f\"epoch {i} loss: {loss}, weight: {model.linear.weight.item()}, bias: {model.linear.bias.item()}\")\n",
    "\n",
    "    optimizer.zero_grad()\n",
    "\n",
    "    loss.backward()\n",
    "\n",
    "    optimizer.step()\n"
   ],
   "metadata": {
    "collapsed": false,
    "pycharm": {
     "name": "#%%\n"
    }
   }
  },
  {
   "cell_type": "code",
   "execution_count": 104,
   "outputs": [
    {
     "data": {
      "text/plain": "Text(0, 0.5, 'MSE Loss')"
     },
     "execution_count": 104,
     "metadata": {},
     "output_type": "execute_result"
    },
    {
     "data": {
      "text/plain": "<Figure size 432x288 with 1 Axes>",
      "image/png": "[encoded data removed]"
     },
     "metadata": {
      "needs_background": "light"
     },
     "output_type": "display_data"
    }
   ],
   "source": [
    "a = torch.linspace(0., 50., 50)\n",
    "\n",
    "plt.plot(a, losses)\n",
    "plt.xlabel(\"Epoch\")\n",
    "plt.ylabel(\"MSE Loss\")"
   ],
   "metadata": {
    "collapsed": false,
    "pycharm": {
     "name": "#%%\n"
    }
   }
  },
  {
   "cell_type": "code",
   "execution_count": 105,
   "outputs": [
    {
     "data": {
      "text/plain": "[<matplotlib.lines.Line2D at 0x14f20b3da90>]"
     },
     "execution_count": 105,
     "metadata": {},
     "output_type": "execute_result"
    },
    {
     "data": {
      "text/plain": "<Figure size 432x288 with 1 Axes>",
      "image/png": "[encoded data removed]"
     },
     "metadata": {
      "needs_background": "light"
     },
     "output_type": "display_data"
    }
   ],
   "source": [
    "# Test the trained model with its hyper-parameters.\n",
    "current_weight = model.linear.weight.item()\n",
    "current_bias = model.linear.bias.item()\n",
    "\n",
    "y_prediction = current_weight * X + current_bias\n",
    "\n",
    "plt.scatter(X, y)\n",
    "plt.plot(X, y_prediction, 'r')"
   ],
   "metadata": {
    "collapsed": false,
    "pycharm": {
     "name": "#%%\n"
    }
   }
  }
 ],
 "metadata": {
  "kernelspec": {
   "name": "pycharm-a503b19",
   "language": "python",
   "display_name": "PyCharm (pytorch-tute)"
  },
  "language_info": {
   "codemirror_mode": {
    "name": "ipython",
    "version": 2
   },
   "file_extension": ".py",
   "mimetype": "text/x-python",
   "name": "python",
   "nbconvert_exporter": "python",
   "pygments_lexer": "ipython2",
   "version": "2.7.6"
  }
 },
 "nbformat": 4,
 "nbformat_minor": 0
}