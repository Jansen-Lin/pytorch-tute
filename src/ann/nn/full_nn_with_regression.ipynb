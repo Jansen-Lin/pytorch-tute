{
 "cells": [
  {
   "cell_type": "code",
   "execution_count": 1,
   "metadata": {
    "collapsed": true
   },
   "outputs": [
    {
     "name": "stdout",
     "output_type": "stream",
     "text": [
      "\n",
      "# #################################################################################################\n",
      "#  Full ANN Code Along - Regression Part One(1)\n",
      "# #################################################################################################\n",
      "\n"
     ]
    }
   ],
   "source": [
    "import torch\n",
    "import torch.nn as nn\n",
    "import torch.nn.functional as F\n",
    "import numpy as np\n",
    "import pandas as pd\n",
    "import matplotlib.pyplot as plt\n",
    "from sklearn.model_selection import train_test_split\n",
    "\n",
    "print(\"\"\"\n",
    "# #################################################################################################\n",
    "#  Full ANN Code Along - Regression Part One(1)\n",
    "# #################################################################################################\n",
    "\"\"\")"
   ]
  },
  {
   "cell_type": "code",
   "execution_count": 4,
   "outputs": [
    {
     "name": "stdout",
     "output_type": "stream",
     "text": [
      "           pickup_datetime  fare_amount  fare_class  pickup_longitude  \\\n",
      "0  2010-04-19 08:17:56 UTC          6.5           0        -73.992365   \n",
      "1  2010-04-17 15:43:53 UTC          6.9           0        -73.990078   \n",
      "2  2010-04-17 11:23:26 UTC         10.1           1        -73.994149   \n",
      "3  2010-04-11 21:25:03 UTC          8.9           0        -73.990485   \n",
      "4  2010-04-17 02:19:01 UTC         19.7           1        -73.990976   \n",
      "\n",
      "   pickup_latitude  dropoff_longitude  dropoff_latitude  passenger_count  \n",
      "0        40.730521         -73.975499         40.744746                1  \n",
      "1        40.740558         -73.974232         40.744114                1  \n",
      "2        40.751118         -73.960064         40.766235                2  \n",
      "3        40.756422         -73.971205         40.748192                1  \n",
      "4        40.734202         -73.905956         40.743115                1  \n",
      "count    120000.000000\n",
      "mean         10.040326\n",
      "std           7.500134\n",
      "min           2.500000\n",
      "25%           5.700000\n",
      "50%           7.700000\n",
      "75%          11.300000\n",
      "max          49.900000\n",
      "Name: fare_amount, dtype: float64\n"
     ]
    }
   ],
   "source": [
    "df = pd.read_csv('../../../notebooks/Data/NYCTaxiFares.csv')\n",
    "print(df.head())\n",
    "print(df['fare_amount'].describe())"
   ],
   "metadata": {
    "collapsed": false,
    "pycharm": {
     "name": "#%%\n"
    }
   }
  },
  {
   "cell_type": "code",
   "execution_count": 5,
   "outputs": [],
   "source": [
    "def haversine_distance(df, src_lat, src_long, tar_lat, tar_long):\n",
    "    \"\"\"\n",
    "    Calculates the haversine distance between 2 sets of GPS coordinates in df\n",
    "    \"\"\"\n",
    "    r = 6371  # average radius of Earth in kilometers\n",
    "\n",
    "    phi1 = np.radians(df[src_lat])\n",
    "    phi2 = np.radians(df[tar_lat])\n",
    "\n",
    "    delta_phi = phi2 - phi1\n",
    "    delta_lambda = np.radians(df[tar_long] - df[src_long])\n",
    "\n",
    "    a = np.sin(delta_phi / 2) ** 2 + np.cos(phi1) * np.cos(phi2) * np.sin(delta_lambda / 2) ** 2\n",
    "    c = 2 * np.arctan2(np.sqrt(a), np.sqrt(1 - a))\n",
    "    d = (r * c)  # in kilometers\n",
    "    return d"
   ],
   "metadata": {
    "collapsed": false,
    "pycharm": {
     "name": "#%%\n"
    }
   }
  },
  {
   "cell_type": "code",
   "execution_count": 6,
   "outputs": [
    {
     "name": "stdout",
     "output_type": "stream",
     "text": [
      "0    2.126312\n",
      "1    1.392307\n",
      "2    3.326763\n",
      "3    1.864129\n",
      "4    7.231321\n",
      "Name: dist_km, dtype: float64\n",
      "<class 'pandas.core.frame.DataFrame'>\n",
      "RangeIndex: 120000 entries, 0 to 119999\n",
      "Data columns (total 9 columns):\n",
      " #   Column             Non-Null Count   Dtype  \n",
      "---  ------             --------------   -----  \n",
      " 0   pickup_datetime    120000 non-null  object \n",
      " 1   fare_amount        120000 non-null  float64\n",
      " 2   fare_class         120000 non-null  int64  \n",
      " 3   pickup_longitude   120000 non-null  float64\n",
      " 4   pickup_latitude    120000 non-null  float64\n",
      " 5   dropoff_longitude  120000 non-null  float64\n",
      " 6   dropoff_latitude   120000 non-null  float64\n",
      " 7   passenger_count    120000 non-null  int64  \n",
      " 8   dist_km            120000 non-null  float64\n",
      "dtypes: float64(6), int64(2), object(1)\n",
      "memory usage: 8.2+ MB\n",
      "None\n"
     ]
    }
   ],
   "source": [
    "# FEATURE ENGINEERING - Taking a existing features already have, create new more useful features\n",
    "# than original features.\n",
    "\n",
    "# Engineering distance between two points with co-ordinates.\n",
    "df['dist_km'] = haversine_distance(df, 'pickup_latitude', 'pickup_longitude', 'dropoff_latitude',\n",
    "                                   'dropoff_longitude')\n",
    "print(df['dist_km'].head())\n",
    "\n",
    "print(df.info())"
   ],
   "metadata": {
    "collapsed": false,
    "pycharm": {
     "name": "#%%\n"
    }
   }
  },
  {
   "cell_type": "code",
   "execution_count": 7,
   "outputs": [
    {
     "name": "stdout",
     "output_type": "stream",
     "text": [
      "<class 'pandas.core.frame.DataFrame'>\n",
      "RangeIndex: 120000 entries, 0 to 119999\n",
      "Data columns (total 9 columns):\n",
      " #   Column             Non-Null Count   Dtype              \n",
      "---  ------             --------------   -----              \n",
      " 0   pickup_datetime    120000 non-null  datetime64[ns, UTC]\n",
      " 1   fare_amount        120000 non-null  float64            \n",
      " 2   fare_class         120000 non-null  int64              \n",
      " 3   pickup_longitude   120000 non-null  float64            \n",
      " 4   pickup_latitude    120000 non-null  float64            \n",
      " 5   dropoff_longitude  120000 non-null  float64            \n",
      " 6   dropoff_latitude   120000 non-null  float64            \n",
      " 7   passenger_count    120000 non-null  int64              \n",
      " 8   dist_km            120000 non-null  float64            \n",
      "dtypes: datetime64[ns, UTC](1), float64(6), int64(2)\n",
      "memory usage: 8.2 MB\n",
      "None\n",
      "            pickup_datetime  fare_amount  fare_class  pickup_longitude  \\\n",
      "0 2010-04-19 08:17:56+00:00          6.5           0        -73.992365   \n",
      "1 2010-04-17 15:43:53+00:00          6.9           0        -73.990078   \n",
      "2 2010-04-17 11:23:26+00:00         10.1           1        -73.994149   \n",
      "3 2010-04-11 21:25:03+00:00          8.9           0        -73.990485   \n",
      "4 2010-04-17 02:19:01+00:00         19.7           1        -73.990976   \n",
      "\n",
      "   pickup_latitude  dropoff_longitude  dropoff_latitude  passenger_count  \\\n",
      "0        40.730521         -73.975499         40.744746                1   \n",
      "1        40.740558         -73.974232         40.744114                1   \n",
      "2        40.751118         -73.960064         40.766235                2   \n",
      "3        40.756422         -73.971205         40.748192                1   \n",
      "4        40.734202         -73.905956         40.743115                1   \n",
      "\n",
      "    dist_km  \n",
      "0  2.126312  \n",
      "1  1.392307  \n",
      "2  3.326763  \n",
      "3  1.864129  \n",
      "4  7.231321  \n"
     ]
    }
   ],
   "source": [
    "# Engineering datetime object(string) to be DateTime object.\n",
    "df['pickup_datetime'] = pd.to_datetime(df['pickup_datetime'])\n",
    "print(df.info())\n",
    "print(df.head())"
   ],
   "metadata": {
    "collapsed": false,
    "pycharm": {
     "name": "#%%\n"
    }
   }
  },
  {
   "cell_type": "code",
   "execution_count": 9,
   "outputs": [
    {
     "name": "stdout",
     "output_type": "stream",
     "text": [
      "2010-04-19 08:17:56+00:00\n",
      "8\n"
     ]
    }
   ],
   "source": [
    "my_time = df['pickup_datetime'][0]\n",
    "print(my_time)\n",
    "print(my_time.hour)"
   ],
   "metadata": {
    "collapsed": false,
    "pycharm": {
     "name": "#%%\n"
    }
   }
  },
  {
   "cell_type": "code",
   "execution_count": 39,
   "outputs": [
    {
     "name": "stdout",
     "output_type": "stream",
     "text": [
      "            pickup_datetime  fare_amount  fare_class  pickup_longitude  \\\n",
      "0 2010-04-19 08:17:56+00:00          6.5           0        -73.992365   \n",
      "1 2010-04-17 15:43:53+00:00          6.9           0        -73.990078   \n",
      "2 2010-04-17 11:23:26+00:00         10.1           1        -73.994149   \n",
      "3 2010-04-11 21:25:03+00:00          8.9           0        -73.990485   \n",
      "4 2010-04-17 02:19:01+00:00         19.7           1        -73.990976   \n",
      "\n",
      "   pickup_latitude  dropoff_longitude  dropoff_latitude  passenger_count  \\\n",
      "0        40.730521         -73.975499         40.744746                1   \n",
      "1        40.740558         -73.974232         40.744114                1   \n",
      "2        40.751118         -73.960064         40.766235                2   \n",
      "3        40.756422         -73.971205         40.748192                1   \n",
      "4        40.734202         -73.905956         40.743115                1   \n",
      "\n",
      "    dist_km                   EDTDate  Hour AMorPM Weekday  \n",
      "0  2.126312 2010-04-19 04:17:56-04:00     4     am     Mon  \n",
      "1  1.392307 2010-04-17 11:43:53-04:00    11     am     Sat  \n",
      "2  3.326763 2010-04-17 07:23:26-04:00     7     am     Sat  \n",
      "3  1.864129 2010-04-11 17:25:03-04:00    17     pm     Sun  \n",
      "4  7.231321 2010-04-16 22:19:01-04:00    22     pm     Fri  \n"
     ]
    }
   ],
   "source": [
    "df['EDTDate'] = df['pickup_datetime'].dt.tz_convert('US/Eastern')\n",
    "df['Hour'] = df['EDTDate'].dt.hour\n",
    "df['AMorPM'] = np.where(df['Hour'] >= 12, 'pm', 'am')\n",
    "df['Weekday'] = df['EDTDate'].dt.strftime('%a')\n",
    "\n",
    "print(df.head())"
   ],
   "metadata": {
    "collapsed": false,
    "pycharm": {
     "name": "#%%\n"
    }
   }
  },
  {
   "cell_type": "code",
   "execution_count": 40,
   "outputs": [
    {
     "name": "stdout",
     "output_type": "stream",
     "text": [
      "\n",
      "# #################################################################################################\n",
      "#  Full ANN Code Along - Regression Part Two(2) (Categorical and Continuous Features)\n",
      "# #################################################################################################\n",
      "\n"
     ]
    }
   ],
   "source": [
    "print(\"\"\"\n",
    "# #################################################################################################\n",
    "#  Full ANN Code Along - Regression Part Two(2) (Categorical and Continuous Features)\n",
    "# #################################################################################################\n",
    "\"\"\")"
   ],
   "metadata": {
    "collapsed": false,
    "pycharm": {
     "name": "#%%\n"
    }
   }
  },
  {
   "cell_type": "code",
   "execution_count": 44,
   "outputs": [],
   "source": [
    "categorical_cols = ['Hour', 'AMorPM', 'Weekday']\n",
    "continuous_cols = ['pickup_longitude', 'pickup_latitude', 'dropoff_longitude',\n",
    "                   'dropoff_latitude', 'passenger_count', 'dist_km']\n",
    "y_col = ['fare_amount']     # Hence regression problem."
   ],
   "metadata": {
    "collapsed": false,
    "pycharm": {
     "name": "#%%\n"
    }
   }
  },
  {
   "cell_type": "code",
   "execution_count": 52,
   "outputs": [],
   "source": [
    "# Change the categorical columns's data type('dtype') to 'category' type, so neural network can understand\n",
    "# assigning a number.\n",
    "for col in categorical_cols:\n",
    "    df[col] = df[col].astype('category')"
   ],
   "metadata": {
    "collapsed": false,
    "pycharm": {
     "name": "#%%\n"
    }
   }
  },
  {
   "cell_type": "code",
   "execution_count": 53,
   "outputs": [
    {
     "data": {
      "text/plain": "0     4\n1    11\n2     7\n3    17\n4    22\nName: Hour, dtype: category\nCategories (24, int64): [0, 1, 2, 3, ..., 20, 21, 22, 23]"
     },
     "execution_count": 53,
     "metadata": {},
     "output_type": "execute_result"
    }
   ],
   "source": [
    "df['Hour'].head()"
   ],
   "metadata": {
    "collapsed": false,
    "pycharm": {
     "name": "#%%\n"
    }
   }
  },
  {
   "cell_type": "code",
   "execution_count": 54,
   "outputs": [
    {
     "data": {
      "text/plain": "0    am\n1    am\n2    am\n3    pm\n4    pm\nName: AMorPM, dtype: category\nCategories (2, object): [am, pm]"
     },
     "execution_count": 54,
     "metadata": {},
     "output_type": "execute_result"
    }
   ],
   "source": [
    "df['AMorPM'].head()"
   ],
   "metadata": {
    "collapsed": false,
    "pycharm": {
     "name": "#%%\n"
    }
   }
  },
  {
   "cell_type": "code",
   "execution_count": 55,
   "outputs": [
    {
     "data": {
      "text/plain": "0    Mon\n1    Sat\n2    Sat\n3    Sun\n4    Fri\nName: Weekday, dtype: category\nCategories (7, object): [Fri, Mon, Sat, Sun, Thu, Tue, Wed]"
     },
     "execution_count": 55,
     "metadata": {},
     "output_type": "execute_result"
    }
   ],
   "source": [
    "df['Weekday'].head()"
   ],
   "metadata": {
    "collapsed": false,
    "pycharm": {
     "name": "#%%\n"
    }
   }
  },
  {
   "cell_type": "code",
   "execution_count": 56,
   "outputs": [
    {
     "name": "stdout",
     "output_type": "stream",
     "text": [
      "<class 'pandas.core.frame.DataFrame'>\n",
      "RangeIndex: 120000 entries, 0 to 119999\n",
      "Data columns (total 13 columns):\n",
      " #   Column             Non-Null Count   Dtype                     \n",
      "---  ------             --------------   -----                     \n",
      " 0   pickup_datetime    120000 non-null  datetime64[ns, UTC]       \n",
      " 1   fare_amount        120000 non-null  float64                   \n",
      " 2   fare_class         120000 non-null  int64                     \n",
      " 3   pickup_longitude   120000 non-null  float64                   \n",
      " 4   pickup_latitude    120000 non-null  float64                   \n",
      " 5   dropoff_longitude  120000 non-null  float64                   \n",
      " 6   dropoff_latitude   120000 non-null  float64                   \n",
      " 7   passenger_count    120000 non-null  int64                     \n",
      " 8   dist_km            120000 non-null  float64                   \n",
      " 9   EDTDate            120000 non-null  datetime64[ns, US/Eastern]\n",
      " 10  Hour               120000 non-null  category                  \n",
      " 11  AMorPM             120000 non-null  category                  \n",
      " 12  Weekday            120000 non-null  category                  \n",
      "dtypes: category(3), datetime64[ns, US/Eastern](1), datetime64[ns, UTC](1), float64(6), int64(2)\n",
      "memory usage: 9.5 MB\n"
     ]
    }
   ],
   "source": [
    "df.info()"
   ],
   "metadata": {
    "collapsed": false,
    "pycharm": {
     "name": "#%%\n"
    }
   }
  },
  {
   "cell_type": "code",
   "execution_count": 69,
   "outputs": [
    {
     "name": "stdout",
     "output_type": "stream",
     "text": [
      "Index(['am', 'pm'], dtype='object')\n",
      "0         0\n",
      "1         0\n",
      "2         0\n",
      "3         1\n",
      "4         1\n",
      "         ..\n",
      "119995    0\n",
      "119996    0\n",
      "119997    1\n",
      "119998    0\n",
      "119999    1\n",
      "Length: 120000, dtype: int8\n",
      "<class 'numpy.ndarray'>\n",
      "[0 0 0 ... 1 0 1]\n"
     ]
    }
   ],
   "source": [
    "# We can access 'category' type object details using '.cat' as in '.dt' for 'DateTime' objects.\n",
    "print(df['AMorPM'].cat.categories)\n",
    "print(df['AMorPM'].cat.codes)\n",
    "\n",
    "vals = df['AMorPM'].cat.codes.values\n",
    "print(type(vals))\n",
    "print(vals)"
   ],
   "metadata": {
    "collapsed": false,
    "pycharm": {
     "name": "#%%\n"
    }
   }
  },
  {
   "cell_type": "code",
   "execution_count": 72,
   "outputs": [
    {
     "name": "stdout",
     "output_type": "stream",
     "text": [
      "[[ 4  0  1]\n",
      " [11  0  2]\n",
      " [ 7  0  2]\n",
      " ...\n",
      " [14  1  3]\n",
      " [ 4  0  5]\n",
      " [12  1  2]]\n"
     ]
    }
   ],
   "source": [
    "hr = df['Hour'].cat.codes.values\n",
    "ampm = df['AMorPM'].cat.codes.values\n",
    "wkd = df['Weekday'].cat.codes.values\n",
    "\n",
    "cat = np.stack([hr, ampm, wkd], axis=1) # Join each array as a column thus, axis=1.\n",
    "print(cat)"
   ],
   "metadata": {
    "collapsed": false,
    "pycharm": {
     "name": "#%%\n"
    }
   }
  },
  {
   "cell_type": "code",
   "execution_count": 75,
   "outputs": [
    {
     "name": "stdout",
     "output_type": "stream",
     "text": [
      "[[ 4  0  1]\n",
      " [11  0  2]\n",
      " [ 7  0  2]\n",
      " ...\n",
      " [14  1  3]\n",
      " [ 4  0  5]\n",
      " [12  1  2]]\n",
      "[[ 4  0  1]\n",
      " [11  0  2]\n",
      " [ 7  0  2]\n",
      " ...\n",
      " [14  1  3]\n",
      " [ 4  0  5]\n",
      " [12  1  2]]\n"
     ]
    }
   ],
   "source": [
    "# Use 'list' comprehension to derive values and stack them up to single numpy array.\n",
    "cat = np.stack([df[col].cat.codes.values for col in categorical_cols], axis=1)\n",
    "print(cat)\n",
    "\n",
    "# OR skip change data type for loop and embed it into the list comprehension as well.\n",
    "\n",
    "cat = np.stack([df[col].astype('category').cat.codes.values for col in categorical_cols], axis=1)\n",
    "print(cat)"
   ],
   "metadata": {
    "collapsed": false,
    "pycharm": {
     "name": "#%%\n"
    }
   }
  },
  {
   "cell_type": "code",
   "execution_count": 82,
   "outputs": [
    {
     "name": "stdout",
     "output_type": "stream",
     "text": [
      "tensor([[ 4,  0,  1],\n",
      "        [11,  0,  2],\n",
      "        [ 7,  0,  2],\n",
      "        ...,\n",
      "        [14,  1,  3],\n",
      "        [ 4,  0,  5],\n",
      "        [12,  1,  2]])\n"
     ]
    },
    {
     "name": "stderr",
     "output_type": "stream",
     "text": [
      "<ipython-input-82-26bd70e7c324>:2: UserWarning: To copy construct from a tensor, it is recommended to use sourceTensor.clone().detach() or sourceTensor.clone().detach().requires_grad_(True), rather than torch.tensor(sourceTensor).\n",
      "  cat = torch.tensor(cat, dtype=torch.int64)\n"
     ]
    }
   ],
   "source": [
    "# Convert numpy array to 'tensor'.\n",
    "cat = torch.tensor(cat, dtype=torch.int64)\n",
    "print(cat)"
   ],
   "metadata": {
    "collapsed": false,
    "pycharm": {
     "name": "#%%\n"
    }
   }
  },
  {
   "cell_type": "code",
   "execution_count": 84,
   "outputs": [
    {
     "name": "stdout",
     "output_type": "stream",
     "text": [
      "[[-73.992365    40.730521   -73.975499    40.744746     1.\n",
      "    2.12631159]\n",
      " [-73.990078    40.740558   -73.974232    40.744114     1.\n",
      "    1.39230687]\n",
      " [-73.994149    40.751118   -73.960064    40.766235     2.\n",
      "    3.32676344]\n",
      " ...\n",
      " [-73.988574    40.749772   -74.011541    40.707799     3.\n",
      "    5.05252282]\n",
      " [-74.004449    40.724529   -73.992697    40.730765     1.\n",
      "    1.20892296]\n",
      " [-73.955415    40.77192    -73.967623    40.763015     3.\n",
      "    1.42739869]]\n",
      "tensor([[-73.9924,  40.7305, -73.9755,  40.7447,   1.0000,   2.1263],\n",
      "        [-73.9901,  40.7406, -73.9742,  40.7441,   1.0000,   1.3923],\n",
      "        [-73.9941,  40.7511, -73.9601,  40.7662,   2.0000,   3.3268],\n",
      "        ...,\n",
      "        [-73.9886,  40.7498, -74.0115,  40.7078,   3.0000,   5.0525],\n",
      "        [-74.0044,  40.7245, -73.9927,  40.7308,   1.0000,   1.2089],\n",
      "        [-73.9554,  40.7719, -73.9676,  40.7630,   3.0000,   1.4274]])\n"
     ]
    }
   ],
   "source": [
    "# Continuous columns - Simply map them into a numpy since they are already numerical values and neurons basicaly\n",
    "# understand them.\n",
    "\n",
    "cont = np.stack([df[col].values for col in continuous_cols], axis=1)\n",
    "print(cont)\n",
    "\n",
    "# To a 'tensor'.\n",
    "cont = torch.tensor(cont, dtype=torch.float)\n",
    "print(cont)"
   ],
   "metadata": {
    "collapsed": false,
    "pycharm": {
     "name": "#%%\n"
    }
   }
  },
  {
   "cell_type": "code",
   "execution_count": 88,
   "outputs": [
    {
     "name": "stdout",
     "output_type": "stream",
     "text": [
      "tensor([[ 6.5000],\n",
      "        [ 6.9000],\n",
      "        [10.1000],\n",
      "        ...,\n",
      "        [12.5000],\n",
      "        [ 4.9000],\n",
      "        [ 5.3000]], dtype=torch.float64)\n"
     ]
    }
   ],
   "source": [
    "# CREATE the labels using 'fare_amount' columns, hence need to predict 'fare_amount' base on categorical and continuous\n",
    "# columns values after training.\n",
    "y = torch.tensor(df['fare_amount'].values).reshape(-1, 1)\n",
    "print(y)"
   ],
   "metadata": {
    "collapsed": false,
    "pycharm": {
     "name": "#%%\n"
    }
   }
  },
  {
   "cell_type": "code",
   "execution_count": 89,
   "outputs": [
    {
     "name": "stdout",
     "output_type": "stream",
     "text": [
      "torch.Size([120000, 3])\n",
      "torch.Size([120000, 6])\n",
      "torch.Size([120000, 1])\n"
     ]
    }
   ],
   "source": [
    "# After all the data prepared.\n",
    "print(cat.shape)\n",
    "print(cont.shape)\n",
    "print(y.shape)"
   ],
   "metadata": {
    "collapsed": false,
    "pycharm": {
     "name": "#%%\n"
    }
   }
  },
  {
   "cell_type": "code",
   "execution_count": 91,
   "outputs": [
    {
     "name": "stdout",
     "output_type": "stream",
     "text": [
      "[24, 2, 7]\n",
      "[(24, 12), (2, 1), (7, 4)]\n"
     ]
    }
   ],
   "source": [
    "# #################################################################################################\n",
    "# SET EMBEDDING Sizes\n",
    "# #################################################################################################\n",
    "# 1. Step - Take category sizes.\n",
    "cat_szs = [len(df[col].cat.categories) for col in categorical_cols]\n",
    "print(cat_szs)\n",
    "\n",
    "# 2. Step - Take embedded sizes.\n",
    "embedded_szs = [(szs, min(50, (szs + 1) // 2)) for szs in cat_szs]\n",
    "print(embedded_szs)"
   ],
   "metadata": {
    "collapsed": false,
    "pycharm": {
     "name": "#%%\n"
    }
   }
  },
  {
   "cell_type": "code",
   "execution_count": 92,
   "outputs": [
    {
     "name": "stdout",
     "output_type": "stream",
     "text": [
      "\n",
      "# #################################################################################################\n",
      "#  Full ANN Code Along - Regression Part Three(3) (Tabular Model)\n",
      "# #################################################################################################\n",
      "\n"
     ]
    }
   ],
   "source": [
    "print(\"\"\"\n",
    "# #################################################################################################\n",
    "#  Full ANN Code Along - Regression Part Three(3) (Tabular Model)\n",
    "# #################################################################################################\n",
    "\"\"\")"
   ],
   "metadata": {
    "collapsed": false,
    "pycharm": {
     "name": "#%%\n"
    }
   }
  },
  {
   "cell_type": "code",
   "execution_count": null,
   "outputs": [],
   "source": [
    "\n"
   ],
   "metadata": {
    "collapsed": false,
    "pycharm": {
     "name": "#%%\n"
    }
   }
  }
 ],
 "metadata": {
  "kernelspec": {
   "name": "pycharm-a503b19",
   "language": "python",
   "display_name": "PyCharm (pytorch-tute)"
  },
  "language_info": {
   "codemirror_mode": {
    "name": "ipython",
    "version": 2
   },
   "file_extension": ".py",
   "mimetype": "text/x-python",
   "name": "python",
   "nbconvert_exporter": "python",
   "pygments_lexer": "ipython2",
   "version": "2.7.6"
  }
 },
 "nbformat": 4,
 "nbformat_minor": 0
}