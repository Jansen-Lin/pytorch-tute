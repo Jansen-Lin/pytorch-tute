{
 "cells": [
  {
   "cell_type": "code",
   "execution_count": 1,
   "metadata": {
    "collapsed": true
   },
   "outputs": [],
   "source": [
    "import torch\n",
    "import torch.nn as nn\n",
    "import pandas as pd\n",
    "import numpy as np\n",
    "import matplotlib.pyplot as plt"
   ]
  },
  {
   "cell_type": "code",
   "execution_count": 37,
   "outputs": [
    {
     "data": {
      "text/plain": "           pickup_datetime  fare_amount  fare_class  pickup_longitude  \\\n0  2010-04-19 08:17:56 UTC          6.5           0        -73.992365   \n1  2010-04-17 15:43:53 UTC          6.9           0        -73.990078   \n2  2010-04-17 11:23:26 UTC         10.1           1        -73.994149   \n3  2010-04-11 21:25:03 UTC          8.9           0        -73.990485   \n4  2010-04-17 02:19:01 UTC         19.7           1        -73.990976   \n\n   pickup_latitude  dropoff_longitude  dropoff_latitude  passenger_count  \n0        40.730521         -73.975499         40.744746                1  \n1        40.740558         -73.974232         40.744114                1  \n2        40.751118         -73.960064         40.766235                2  \n3        40.756422         -73.971205         40.748192                1  \n4        40.734202         -73.905956         40.743115                1  ",
      "text/html": "<div>\n<style scoped>\n    .dataframe tbody tr th:only-of-type {\n        vertical-align: middle;\n    }\n\n    .dataframe tbody tr th {\n        vertical-align: top;\n    }\n\n    .dataframe thead th {\n        text-align: right;\n    }\n</style>\n<table border=\"1\" class=\"dataframe\">\n  <thead>\n    <tr style=\"text-align: right;\">\n      <th></th>\n      <th>pickup_datetime</th>\n      <th>fare_amount</th>\n      <th>fare_class</th>\n      <th>pickup_longitude</th>\n      <th>pickup_latitude</th>\n      <th>dropoff_longitude</th>\n      <th>dropoff_latitude</th>\n      <th>passenger_count</th>\n    </tr>\n  </thead>\n  <tbody>\n    <tr>\n      <th>0</th>\n      <td>2010-04-19 08:17:56 UTC</td>\n      <td>6.5</td>\n      <td>0</td>\n      <td>-73.992365</td>\n      <td>40.730521</td>\n      <td>-73.975499</td>\n      <td>40.744746</td>\n      <td>1</td>\n    </tr>\n    <tr>\n      <th>1</th>\n      <td>2010-04-17 15:43:53 UTC</td>\n      <td>6.9</td>\n      <td>0</td>\n      <td>-73.990078</td>\n      <td>40.740558</td>\n      <td>-73.974232</td>\n      <td>40.744114</td>\n      <td>1</td>\n    </tr>\n    <tr>\n      <th>2</th>\n      <td>2010-04-17 11:23:26 UTC</td>\n      <td>10.1</td>\n      <td>1</td>\n      <td>-73.994149</td>\n      <td>40.751118</td>\n      <td>-73.960064</td>\n      <td>40.766235</td>\n      <td>2</td>\n    </tr>\n    <tr>\n      <th>3</th>\n      <td>2010-04-11 21:25:03 UTC</td>\n      <td>8.9</td>\n      <td>0</td>\n      <td>-73.990485</td>\n      <td>40.756422</td>\n      <td>-73.971205</td>\n      <td>40.748192</td>\n      <td>1</td>\n    </tr>\n    <tr>\n      <th>4</th>\n      <td>2010-04-17 02:19:01 UTC</td>\n      <td>19.7</td>\n      <td>1</td>\n      <td>-73.990976</td>\n      <td>40.734202</td>\n      <td>-73.905956</td>\n      <td>40.743115</td>\n      <td>1</td>\n    </tr>\n  </tbody>\n</table>\n</div>"
     },
     "execution_count": 37,
     "metadata": {},
     "output_type": "execute_result"
    }
   ],
   "source": [
    "df = pd.read_csv('../../../notebooks/Data/NYCTaxiFares.csv')\n",
    "df.head()"
   ],
   "metadata": {
    "collapsed": false,
    "pycharm": {
     "name": "#%%\n"
    }
   }
  },
  {
   "cell_type": "code",
   "execution_count": 38,
   "outputs": [
    {
     "data": {
      "text/plain": "            pickup_datetime  fare_amount  fare_class  pickup_longitude  \\\n0 2010-04-19 04:17:56-04:00          6.5           0        -73.992365   \n1 2010-04-17 11:43:53-04:00          6.9           0        -73.990078   \n2 2010-04-17 07:23:26-04:00         10.1           1        -73.994149   \n3 2010-04-11 17:25:03-04:00          8.9           0        -73.990485   \n4 2010-04-16 22:19:01-04:00         19.7           1        -73.990976   \n\n   pickup_latitude  dropoff_longitude  dropoff_latitude  passenger_count  \n0        40.730521         -73.975499         40.744746                1  \n1        40.740558         -73.974232         40.744114                1  \n2        40.751118         -73.960064         40.766235                2  \n3        40.756422         -73.971205         40.748192                1  \n4        40.734202         -73.905956         40.743115                1  ",
      "text/html": "<div>\n<style scoped>\n    .dataframe tbody tr th:only-of-type {\n        vertical-align: middle;\n    }\n\n    .dataframe tbody tr th {\n        vertical-align: top;\n    }\n\n    .dataframe thead th {\n        text-align: right;\n    }\n</style>\n<table border=\"1\" class=\"dataframe\">\n  <thead>\n    <tr style=\"text-align: right;\">\n      <th></th>\n      <th>pickup_datetime</th>\n      <th>fare_amount</th>\n      <th>fare_class</th>\n      <th>pickup_longitude</th>\n      <th>pickup_latitude</th>\n      <th>dropoff_longitude</th>\n      <th>dropoff_latitude</th>\n      <th>passenger_count</th>\n    </tr>\n  </thead>\n  <tbody>\n    <tr>\n      <th>0</th>\n      <td>2010-04-19 04:17:56-04:00</td>\n      <td>6.5</td>\n      <td>0</td>\n      <td>-73.992365</td>\n      <td>40.730521</td>\n      <td>-73.975499</td>\n      <td>40.744746</td>\n      <td>1</td>\n    </tr>\n    <tr>\n      <th>1</th>\n      <td>2010-04-17 11:43:53-04:00</td>\n      <td>6.9</td>\n      <td>0</td>\n      <td>-73.990078</td>\n      <td>40.740558</td>\n      <td>-73.974232</td>\n      <td>40.744114</td>\n      <td>1</td>\n    </tr>\n    <tr>\n      <th>2</th>\n      <td>2010-04-17 07:23:26-04:00</td>\n      <td>10.1</td>\n      <td>1</td>\n      <td>-73.994149</td>\n      <td>40.751118</td>\n      <td>-73.960064</td>\n      <td>40.766235</td>\n      <td>2</td>\n    </tr>\n    <tr>\n      <th>3</th>\n      <td>2010-04-11 17:25:03-04:00</td>\n      <td>8.9</td>\n      <td>0</td>\n      <td>-73.990485</td>\n      <td>40.756422</td>\n      <td>-73.971205</td>\n      <td>40.748192</td>\n      <td>1</td>\n    </tr>\n    <tr>\n      <th>4</th>\n      <td>2010-04-16 22:19:01-04:00</td>\n      <td>19.7</td>\n      <td>1</td>\n      <td>-73.990976</td>\n      <td>40.734202</td>\n      <td>-73.905956</td>\n      <td>40.743115</td>\n      <td>1</td>\n    </tr>\n  </tbody>\n</table>\n</div>"
     },
     "execution_count": 38,
     "metadata": {},
     "output_type": "execute_result"
    }
   ],
   "source": [
    "# Feature engineering.\n",
    "df['pickup_datetime'] = pd.to_datetime(df['pickup_datetime']).dt.tz_convert('US/Eastern')\n",
    "df.head()"
   ],
   "metadata": {
    "collapsed": false,
    "pycharm": {
     "name": "#%%\n"
    }
   }
  },
  {
   "cell_type": "code",
   "execution_count": 39,
   "outputs": [],
   "source": [
    "def haversine_distance(df, src_lat, src_long, tar_lat, tar_long):\n",
    "    \"\"\"\n",
    "    Calculates the haversine distance between 2 sets of GPS coordinates in df\n",
    "    \"\"\"\n",
    "    r = 6371  # average radius of Earth in kilometers\n",
    "\n",
    "    phi1 = np.radians(df[src_lat])\n",
    "    phi2 = np.radians(df[tar_lat])\n",
    "\n",
    "    delta_phi = phi2 - phi1\n",
    "    delta_lambda = np.radians(df[tar_long] - df[src_long])\n",
    "\n",
    "    a = np.sin(delta_phi / 2) ** 2 + np.cos(phi1) * np.cos(phi2) * np.sin(delta_lambda / 2) ** 2\n",
    "    c = 2 * np.arctan2(np.sqrt(a), np.sqrt(1 - a))\n",
    "    d = (r * c)  # in kilometers\n",
    "    return d\n"
   ],
   "metadata": {
    "collapsed": false,
    "pycharm": {
     "name": "#%%\n"
    }
   }
  },
  {
   "cell_type": "code",
   "execution_count": 40,
   "outputs": [
    {
     "data": {
      "text/plain": "0    2.126312\n1    1.392307\n2    3.326763\n3    1.864129\n4    7.231321\nName: Distance, dtype: float64"
     },
     "execution_count": 40,
     "metadata": {},
     "output_type": "execute_result"
    }
   ],
   "source": [
    "df['Distance'] = haversine_distance(df, 'pickup_latitude', 'pickup_longitude', 'dropoff_latitude', 'dropoff_longitude')\n",
    "df['Distance'].head()"
   ],
   "metadata": {
    "collapsed": false,
    "pycharm": {
     "name": "#%%\n"
    }
   }
  },
  {
   "cell_type": "code",
   "execution_count": 41,
   "outputs": [
    {
     "data": {
      "text/plain": "0     4\n1    11\n2     7\n3    17\n4    22\nName: Hour, dtype: int64"
     },
     "execution_count": 41,
     "metadata": {},
     "output_type": "execute_result"
    }
   ],
   "source": [
    "df['Hour'] = df['pickup_datetime'].dt.hour\n",
    "df['Hour'].head()"
   ],
   "metadata": {
    "collapsed": false,
    "pycharm": {
     "name": "#%%\n"
    }
   }
  },
  {
   "cell_type": "code",
   "execution_count": 42,
   "outputs": [
    {
     "data": {
      "text/plain": "0      Monday\n1    Saturday\n2    Saturday\n3      Sunday\n4      Friday\nName: DayOfWeek, dtype: object"
     },
     "execution_count": 42,
     "metadata": {},
     "output_type": "execute_result"
    }
   ],
   "source": [
    "daysOfWeek = {0: 'Monday', 1: 'Tuesday', 2: 'Wednesday', 3: 'Thursday', 4: 'Friday', 5: 'Saturday', 6: 'Sunday'}\n",
    "df['DayOfWeek'] = df['pickup_datetime'].dt.dayofweek\n",
    "df['DayOfWeek'] = df['DayOfWeek'].map(daysOfWeek) # OR Series.dt.strftime('%a')\n",
    "df['DayOfWeek'].head()"
   ],
   "metadata": {
    "collapsed": false,
    "pycharm": {
     "name": "#%%\n"
    }
   }
  },
  {
   "cell_type": "code",
   "execution_count": 43,
   "outputs": [
    {
     "data": {
      "text/plain": "0    AM\n1    AM\n2    AM\n3    PM\n4    PM\nName: AMorPM, dtype: object"
     },
     "execution_count": 43,
     "metadata": {},
     "output_type": "execute_result"
    }
   ],
   "source": [
    "df['AMorPM'] = df['pickup_datetime'].dt.strftime('%p')\n",
    "df['AMorPM'].head()"
   ],
   "metadata": {
    "collapsed": false,
    "pycharm": {
     "name": "#%%\n"
    }
   }
  },
  {
   "cell_type": "code",
   "execution_count": 61,
   "outputs": [
    {
     "name": "stdout",
     "output_type": "stream",
     "text": [
      "Index(['pickup_datetime', 'fare_amount', 'fare_class', 'pickup_longitude',\n",
      "       'pickup_latitude', 'dropoff_longitude', 'dropoff_latitude',\n",
      "       'passenger_count', 'Distance', 'Hour', 'DayOfWeek', 'AMorPM'],\n",
      "      dtype='object')\n"
     ]
    }
   ],
   "source": [
    "print(df.columns)\n",
    "cat_cols = ['Hour', 'DayOfWeek', 'AMorPM']\n",
    "cont_cols = ['pickup_latitude', 'pickup_longitude', 'dropoff_latitude', 'dropoff_longitude', 'passenger_count']\n",
    "y_col = ['fare_amount']"
   ],
   "metadata": {
    "collapsed": false,
    "pycharm": {
     "name": "#%%\n"
    }
   }
  },
  {
   "cell_type": "code",
   "execution_count": 49,
   "outputs": [
    {
     "data": {
      "text/plain": "[(24, 12), (7, 4), (2, 1)]"
     },
     "execution_count": 49,
     "metadata": {},
     "output_type": "execute_result"
    }
   ],
   "source": [
    "# Change categorical columns dtype to 'category'.\n",
    "for col in cat_cols:\n",
    "    df[col] = df[col].astype('category')\n",
    "\n",
    "embedding_sizes = [(size, min(50, (size + 1) // 2)) for size in [len(df[col].cat.categories) for col in cat_cols]]\n",
    "embedding_sizes\n"
   ],
   "metadata": {
    "collapsed": false,
    "pycharm": {
     "name": "#%%\n"
    }
   }
  },
  {
   "cell_type": "code",
   "execution_count": 114,
   "outputs": [
    {
     "name": "stdout",
     "output_type": "stream",
     "text": [
      "tensor([[ 4,  1,  0],\n",
      "        [11,  2,  0],\n",
      "        [ 7,  2,  0],\n",
      "        ...,\n",
      "        [14,  3,  1],\n",
      "        [ 4,  5,  0],\n",
      "        [12,  2,  1]])\n",
      "tensor([[ 40.7305, -73.9924,  40.7447, -73.9755,   1.0000],\n",
      "        [ 40.7406, -73.9901,  40.7441, -73.9742,   1.0000],\n",
      "        [ 40.7511, -73.9941,  40.7662, -73.9601,   2.0000],\n",
      "        ...,\n",
      "        [ 40.7498, -73.9886,  40.7078, -74.0115,   3.0000],\n",
      "        [ 40.7245, -74.0044,  40.7308, -73.9927,   1.0000],\n",
      "        [ 40.7719, -73.9554,  40.7630, -73.9676,   3.0000]])\n",
      "tensor([[ 6.5000],\n",
      "        [ 6.9000],\n",
      "        [10.1000],\n",
      "        ...,\n",
      "        [12.5000],\n",
      "        [ 4.9000],\n",
      "        [ 5.3000]])\n"
     ]
    }
   ],
   "source": [
    "cat_vals = [df[col].cat.codes.values for col in cat_cols]\n",
    "cat_vals = np.stack(cat_vals, axis=1)\n",
    "cat_vals = torch.tensor(cat_vals, dtype=torch.int64)\n",
    "print(cat_vals)\n",
    "\n",
    "cont_vals = [df[col].values for col in cont_cols]\n",
    "cont_vals = np.stack(cont_vals, axis=1)\n",
    "cont_vals = torch.tensor(cont_vals, dtype=torch.float)\n",
    "print(cont_vals)\n",
    "\n",
    "y_vals = df[y_col].values\n",
    "y_vals = torch.tensor(y_vals, dtype=torch.float).reshape(-1, 1)\n",
    "print(y_vals)"
   ],
   "metadata": {
    "collapsed": false,
    "pycharm": {
     "name": "#%%\n"
    }
   }
  },
  {
   "cell_type": "code",
   "execution_count": 2,
   "outputs": [],
   "source": [
    "class TabularModel(nn.Module):\n",
    "\n",
    "    def __init__(self, embedding_szs, num_cont, out_szs, layers, p=0.5):\n",
    "        super().__init__()\n",
    "        self.embedding = nn.ModuleList([nn.Embedding(vocab_szs, vec_szs) for vocab_szs, vec_szs in embedding_szs])\n",
    "        self.dropout = nn.Dropout(p, inplace=True)\n",
    "        self.normalize = nn.BatchNorm1d(num_cont)\n",
    "\n",
    "        num_cat = sum([n for i, n in embedding_szs])\n",
    "        n_in = num_cat + num_cont\n",
    "\n",
    "        new_layers = []\n",
    "\n",
    "        for i in layers:\n",
    "            new_layers.append(nn.Linear(n_in, i))\n",
    "            new_layers.append(nn.ReLU(inplace=True))\n",
    "            new_layers.append(nn.Dropout(p))\n",
    "            new_layers.append(nn.BatchNorm1d(i))\n",
    "            n_in = i\n",
    "\n",
    "        new_layers.append(nn.Linear(n_in, out_szs))\n",
    "\n",
    "        self.layers = nn.Sequential(*new_layers)\n",
    "\n",
    "    def forward(self, x_cat, x_cont):\n",
    "        _embeddings = []\n",
    "        for i, emb in enumerate(self.embedding):\n",
    "            _embeddings.append(emb(x_cat[:, i]))\n",
    "\n",
    "        x = torch.cat(_embeddings, 1)\n",
    "        x = self.dropout(x)\n",
    "\n",
    "        x_cont = self.normalize(x_cont)\n",
    "        x = torch.cat([x, x_cont], 1)\n",
    "\n",
    "        return self.layers(x)"
   ],
   "metadata": {
    "collapsed": false,
    "pycharm": {
     "name": "#%%\n"
    }
   }
  },
  {
   "cell_type": "code",
   "execution_count": 117,
   "outputs": [
    {
     "name": "stdout",
     "output_type": "stream",
     "text": [
      "TabularModel(\n",
      "  (embedding): ModuleList(\n",
      "    (0): Embedding(24, 12)\n",
      "    (1): Embedding(7, 4)\n",
      "    (2): Embedding(2, 1)\n",
      "  )\n",
      "  (dropout): Dropout(p=0.4, inplace=True)\n",
      "  (normalize): BatchNorm1d(5, eps=1e-05, momentum=0.1, affine=True, track_running_stats=True)\n",
      "  (layers): Sequential(\n",
      "    (0): Linear(in_features=22, out_features=50, bias=True)\n",
      "    (1): ReLU(inplace=True)\n",
      "    (2): Dropout(p=0.4, inplace=False)\n",
      "    (3): BatchNorm1d(50, eps=1e-05, momentum=0.1, affine=True, track_running_stats=True)\n",
      "    (4): Linear(in_features=50, out_features=100, bias=True)\n",
      "    (5): ReLU(inplace=True)\n",
      "    (6): Dropout(p=0.4, inplace=False)\n",
      "    (7): BatchNorm1d(100, eps=1e-05, momentum=0.1, affine=True, track_running_stats=True)\n",
      "    (8): Linear(in_features=100, out_features=50, bias=True)\n",
      "    (9): ReLU(inplace=True)\n",
      "    (10): Dropout(p=0.4, inplace=False)\n",
      "    (11): BatchNorm1d(50, eps=1e-05, momentum=0.1, affine=True, track_running_stats=True)\n",
      "    (12): Linear(in_features=50, out_features=1, bias=True)\n",
      "  )\n",
      ")\n"
     ]
    }
   ],
   "source": [
    "model = TabularModel(embedding_sizes, cont_vals.shape[1], 1, [50, 100, 50], p=0.4)\n",
    "print(model)"
   ],
   "metadata": {
    "collapsed": false,
    "pycharm": {
     "name": "#%%\n"
    }
   }
  },
  {
   "cell_type": "code",
   "execution_count": 119,
   "outputs": [
    {
     "name": "stdout",
     "output_type": "stream",
     "text": [
      "120000 36000\n",
      "torch.Size([84000, 3])\n",
      "torch.Size([36000, 3])\n",
      "torch.Size([84000, 5])\n",
      "torch.Size([36000, 5])\n",
      "torch.Size([84000, 1])\n",
      "torch.Size([36000, 1])\n",
      "\n"
     ]
    }
   ],
   "source": [
    "train_size = 120000\n",
    "test_size = int(train_size * 0.3)    # 30%\n",
    "\n",
    "print(train_size, test_size)\n",
    "\n",
    "# Train-test split.\n",
    "cat_train = cat_vals[:train_size - test_size]\n",
    "cat_test = cat_vals[train_size - test_size:]\n",
    "cont_train = cont_vals[:train_size - test_size]\n",
    "cont_test = cont_vals[train_size - test_size:]\n",
    "y_train = y_vals[:train_size - test_size]\n",
    "y_test = y_vals[train_size - test_size:]\n",
    "\n",
    "print(cat_train.shape,\n",
    "      cat_test.shape,\n",
    "      cont_train.shape,\n",
    "      cont_test.shape,\n",
    "      y_train.shape,\n",
    "      y_test.shape, sep='\\n', end='\\n\\n')\n",
    "\n",
    "# Train the model.\n",
    "epochs = 300\n",
    "losses = []\n",
    "\n",
    "criterion = nn.MSELoss()\n",
    "optimizer = torch.optim.Adam(model.parameters(), lr=0.001)\n",
    "\n",
    "torch.manual_seed(42)\n",
    "\n",
    "def train():\n",
    "    for i in range(epochs):\n",
    "\n",
    "        y_pred = model.forward(cat_train, cont_train)\n",
    "        loss = torch.sqrt(criterion(y_pred, y_train))\n",
    "\n",
    "        losses.append(loss)\n",
    "\n",
    "        if i % 10 == 1:\n",
    "            print(f\"epoch {i} -> loss: {loss}\")\n",
    "\n",
    "        # back propagate\n",
    "        optimizer.zero_grad()\n",
    "        loss.backward()\n",
    "        optimizer.step()"
   ],
   "metadata": {
    "collapsed": false,
    "pycharm": {
     "name": "#%%\n"
    }
   }
  },
  {
   "cell_type": "code",
   "execution_count": 123,
   "outputs": [
    {
     "name": "stdout",
     "output_type": "stream",
     "text": [
      "epoch 1 -> loss: 4.025021553039551\n",
      "epoch 11 -> loss: 3.9214770793914795\n",
      "epoch 21 -> loss: 3.8263652324676514\n",
      "epoch 31 -> loss: 3.7682578563690186\n",
      "epoch 41 -> loss: 3.733577013015747\n",
      "epoch 51 -> loss: 3.728602170944214\n",
      "epoch 61 -> loss: 3.6689023971557617\n",
      "epoch 71 -> loss: 3.6441612243652344\n",
      "epoch 81 -> loss: 3.6240220069885254\n",
      "epoch 91 -> loss: 3.60740327835083\n",
      "epoch 101 -> loss: 3.6008689403533936\n",
      "epoch 111 -> loss: 3.5745584964752197\n",
      "epoch 121 -> loss: 3.564282178878784\n",
      "epoch 131 -> loss: 3.5372915267944336\n",
      "epoch 141 -> loss: 3.5294644832611084\n",
      "epoch 151 -> loss: 3.510519027709961\n",
      "epoch 161 -> loss: 3.5125982761383057\n",
      "epoch 171 -> loss: 3.5052027702331543\n",
      "epoch 181 -> loss: 3.4968252182006836\n",
      "epoch 191 -> loss: 3.480086326599121\n",
      "epoch 201 -> loss: 3.4690260887145996\n",
      "epoch 211 -> loss: 3.456364870071411\n",
      "epoch 221 -> loss: 3.4575603008270264\n",
      "epoch 231 -> loss: 3.453247308731079\n",
      "epoch 241 -> loss: 3.4420440196990967\n",
      "epoch 251 -> loss: 3.4443166255950928\n",
      "epoch 261 -> loss: 3.43554425239563\n",
      "epoch 271 -> loss: 3.4558358192443848\n",
      "epoch 281 -> loss: 3.40722918510437\n",
      "epoch 291 -> loss: 3.41857647895813\n"
     ]
    }
   ],
   "source": [
    "train()"
   ],
   "metadata": {
    "collapsed": false,
    "pycharm": {
     "name": "#%%\n"
    }
   }
  },
  {
   "cell_type": "code",
   "execution_count": 127,
   "outputs": [
    {
     "data": {
      "text/plain": "Text(0, 0.5, 'RMSE Loss')"
     },
     "execution_count": 127,
     "metadata": {},
     "output_type": "execute_result"
    },
    {
     "data": {
      "text/plain": "<Figure size 432x288 with 1 Axes>",
      "image/png": "[encoded data removed]"
     },
     "metadata": {
      "needs_background": "light"
     },
     "output_type": "display_data"
    }
   ],
   "source": [
    "plt.plot(range(epochs * 2), losses)\n",
    "plt.xlabel('Epochs')\n",
    "plt.ylabel('RMSE Loss')"
   ],
   "metadata": {
    "collapsed": false,
    "pycharm": {
     "name": "#%%\n"
    }
   }
  },
  {
   "cell_type": "code",
   "execution_count": 129,
   "outputs": [],
   "source": [
    "torch.save(model.state_dict(), \"practice_model.pt\")"
   ],
   "metadata": {
    "collapsed": false,
    "pycharm": {
     "name": "#%%\n"
    }
   }
  },
  {
   "cell_type": "code",
   "execution_count": 132,
   "outputs": [
    {
     "name": "stdout",
     "output_type": "stream",
     "text": [
      "tensor(3.4304)\n",
      "PREDICTED: tensor([8.0090]), ACTUAL: tensor([8.5000])\n",
      "PREDICTED: tensor([6.4786]), ACTUAL: tensor([5.7000])\n",
      "PREDICTED: tensor([12.1070]), ACTUAL: tensor([12.1000])\n",
      "PREDICTED: tensor([11.8686]), ACTUAL: tensor([11.3000])\n",
      "PREDICTED: tensor([13.3403]), ACTUAL: tensor([11.3000])\n",
      "PREDICTED: tensor([12.3933]), ACTUAL: tensor([11.7000])\n",
      "PREDICTED: tensor([10.5531]), ACTUAL: tensor([12.1000])\n",
      "PREDICTED: tensor([6.2138]), ACTUAL: tensor([6.9000])\n",
      "PREDICTED: tensor([5.8862]), ACTUAL: tensor([9.3000])\n",
      "PREDICTED: tensor([6.0233]), ACTUAL: tensor([4.5000])\n"
     ]
    }
   ],
   "source": [
    "# Test the model.\n",
    "\n",
    "with torch.no_grad():\n",
    "\n",
    "    y_pred = model.forward(cat_test, cont_test)\n",
    "    loss = torch.sqrt(criterion(y_pred, y_test))\n",
    "\n",
    "    print(loss)\n",
    "\n",
    "    correct = 0\n",
    "    for i in range(10):\n",
    "        print(f'PREDICTED: {y_pred[i]}, ACTUAL: {y_test[i]}')"
   ],
   "metadata": {
    "collapsed": false,
    "pycharm": {
     "name": "#%%\n"
    }
   }
  }
 ],
 "metadata": {
  "kernelspec": {
   "name": "pycharm-a503b19",
   "language": "python",
   "display_name": "PyCharm (pytorch-tute)"
  },
  "language_info": {
   "codemirror_mode": {
    "name": "ipython",
    "version": 2
   },
   "file_extension": ".py",
   "mimetype": "text/x-python",
   "name": "python",
   "nbconvert_exporter": "python",
   "pygments_lexer": "ipython2",
   "version": "2.7.6"
  }
 },
 "nbformat": 4,
 "nbformat_minor": 0
}