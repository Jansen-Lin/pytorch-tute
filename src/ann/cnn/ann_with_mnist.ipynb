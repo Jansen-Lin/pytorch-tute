{
 "cells": [
  {
   "cell_type": "code",
   "execution_count": 105,
   "metadata": {
    "collapsed": true
   },
   "outputs": [],
   "source": [
    "import torch\n",
    "import torch.nn as nn\n",
    "import torch.nn.functional as F\n",
    "from torchvision import transforms, datasets\n",
    "from torch.utils.data import DataLoader\n",
    "import matplotlib.pyplot as plt\n",
    "from sklearn.metrics import confusion_matrix"
   ]
  },
  {
   "cell_type": "code",
   "execution_count": 2,
   "outputs": [],
   "source": [
    "transform = transforms.ToTensor()\n",
    "\n",
    "train_data = datasets.MNIST(root='../../../../../../notebooks/Data', train=True, download=True, transform=transform)\n",
    "test_data = datasets.MNIST(root='../../../../../../notebooks/Data', train=False, download=True, transform=transform)\n",
    "\n",
    "train_loader = DataLoader(train_data, batch_size=100, shuffle=True)\n",
    "test_loader = DataLoader(test_data, batch_size=500, shuffle=True)"
   ],
   "metadata": {
    "collapsed": false,
    "pycharm": {
     "name": "#%%\n"
    }
   }
  },
  {
   "cell_type": "code",
   "execution_count": 17,
   "outputs": [
    {
     "name": "stdout",
     "output_type": "stream",
     "text": [
      "torch.Size([1, 28, 28])\n"
     ]
    },
    {
     "data": {
      "text/plain": "<matplotlib.image.AxesImage at 0x2babf1e7580>"
     },
     "execution_count": 17,
     "metadata": {},
     "output_type": "execute_result"
    },
    {
     "data": {
      "text/plain": "<Figure size 432x288 with 1 Axes>",
      "image/png": "[encoded data removed]"
     },
     "metadata": {
      "needs_background": "light"
     },
     "output_type": "display_data"
    }
   ],
   "source": [
    "img, lbl = train_data[0]\n",
    "\n",
    "print(img.shape)\n",
    "plt.imshow(img.view(28, -1), cmap='gist_yarg')\n"
   ],
   "metadata": {
    "collapsed": false,
    "pycharm": {
     "name": "#%%\n"
    }
   }
  },
  {
   "cell_type": "code",
   "execution_count": 82,
   "outputs": [
    {
     "data": {
      "text/plain": "MultilayerPerceptron(\n  (fc1): Linear(in_features=784, out_features=100, bias=True)\n  (fc2): Linear(in_features=100, out_features=50, bias=True)\n  (fc3): Linear(in_features=50, out_features=10, bias=True)\n)"
     },
     "execution_count": 82,
     "metadata": {},
     "output_type": "execute_result"
    }
   ],
   "source": [
    "# Model\n",
    "class MultilayerPerceptron(nn.Module):\n",
    "\n",
    "    def __init__(self, n_in=784, n_out=10, layers=(100, 50)):\n",
    "        super().__init__()\n",
    "        self.fc1 = nn.Linear(n_in, layers[0])\n",
    "        self.fc2 = nn.Linear(layers[0], layers[1])\n",
    "        self.fc3 = nn.Linear(layers[1], n_out)\n",
    "\n",
    "    def forward(self, x):\n",
    "        x = F.relu(self.fc1(x))\n",
    "        x = F.relu(self.fc2(x))\n",
    "        return F.log_softmax(self.fc3(x), dim=1)\n",
    "\n",
    "\n",
    "model = MultilayerPerceptron()\n",
    "model"
   ],
   "metadata": {
    "collapsed": false,
    "pycharm": {
     "name": "#%%\n"
    }
   }
  },
  {
   "cell_type": "code",
   "execution_count": 83,
   "outputs": [],
   "source": [
    "criterion = nn.CrossEntropyLoss()\n",
    "optimizer = torch.optim.Adam(model.parameters(), lr=0.001)\n",
    "\n",
    "# Train the model\n",
    "train_loss = []\n",
    "train_correct = []\n",
    "test_loss = []\n",
    "test_correct = []"
   ],
   "metadata": {
    "collapsed": false,
    "pycharm": {
     "name": "#%%\n"
    }
   }
  },
  {
   "cell_type": "code",
   "execution_count": 84,
   "outputs": [
    {
     "name": "stdout",
     "output_type": "stream",
     "text": [
      "epoch: 0, batch: 200 -> loss: 0.18964897096157074, accuracy: 81.755%\n",
      "epoch: 0, batch: 400 -> loss: 0.1381261944770813, accuracy: 86.5825%\n",
      "epoch: 0, batch: 600 -> loss: 0.26314443349838257, accuracy: 88.66333333333333%\n",
      "epoch: 1, batch: 200 -> loss: 0.21957451105117798, accuracy: 93.915%\n",
      "epoch: 1, batch: 400 -> loss: 0.13184577226638794, accuracy: 94.2875%\n",
      "epoch: 1, batch: 600 -> loss: 0.06917045265436172, accuracy: 94.655%\n",
      "epoch: 2, batch: 200 -> loss: 0.15803180634975433, accuracy: 95.675%\n",
      "epoch: 2, batch: 400 -> loss: 0.1794023960828781, accuracy: 95.93%\n",
      "epoch: 2, batch: 600 -> loss: 0.08122707158327103, accuracy: 96.05666666666667%\n",
      "epoch: 3, batch: 200 -> loss: 0.043835949152708054, accuracy: 96.88%\n",
      "epoch: 3, batch: 400 -> loss: 0.11294471472501755, accuracy: 96.85%\n",
      "epoch: 3, batch: 600 -> loss: 0.14489735662937164, accuracy: 97.015%\n",
      "epoch: 4, batch: 200 -> loss: 0.03934948891401291, accuracy: 97.63%\n",
      "epoch: 4, batch: 400 -> loss: 0.03210097551345825, accuracy: 97.65%\n",
      "epoch: 4, batch: 600 -> loss: 0.050351403653621674, accuracy: 97.61166666666666%\n",
      "epoch: 5, batch: 200 -> loss: 0.11220525950193405, accuracy: 98.17%\n",
      "epoch: 5, batch: 400 -> loss: 0.02731572650372982, accuracy: 98.16%\n",
      "epoch: 5, batch: 600 -> loss: 0.06034792959690094, accuracy: 98.12%\n",
      "epoch: 6, batch: 200 -> loss: 0.06202296167612076, accuracy: 98.56%\n",
      "epoch: 6, batch: 400 -> loss: 0.06627239286899567, accuracy: 98.5%\n",
      "epoch: 6, batch: 600 -> loss: 0.039434682577848434, accuracy: 98.46333333333334%\n",
      "epoch: 7, batch: 200 -> loss: 0.09673663228750229, accuracy: 98.755%\n",
      "epoch: 7, batch: 400 -> loss: 0.02297685295343399, accuracy: 98.695%\n",
      "epoch: 7, batch: 600 -> loss: 0.047142866998910904, accuracy: 98.65333333333334%\n",
      "epoch: 8, batch: 200 -> loss: 0.04541607201099396, accuracy: 98.835%\n",
      "epoch: 8, batch: 400 -> loss: 0.02581590972840786, accuracy: 98.74%\n",
      "epoch: 8, batch: 600 -> loss: 0.007284265011548996, accuracy: 98.79%\n",
      "epoch: 9, batch: 200 -> loss: 0.05779358372092247, accuracy: 99.125%\n",
      "epoch: 9, batch: 400 -> loss: 0.03218376636505127, accuracy: 99.0875%\n",
      "epoch: 9, batch: 600 -> loss: 0.021607959643006325, accuracy: 99.05666666666667%\n"
     ]
    }
   ],
   "source": [
    "epoch = 10\n",
    "\n",
    "for i in range(epoch):\n",
    "\n",
    "    trn_correct = 0\n",
    "    tst_correct = 0\n",
    "\n",
    "    for b, (X_train, y_train) in enumerate(train_loader):\n",
    "        b += 1\n",
    "\n",
    "        y_pred = model.forward(X_train.view(100, -1))\n",
    "        loss = criterion(y_pred, y_train)\n",
    "\n",
    "        prediction = torch.max(y_pred, dim=1)[1]\n",
    "        trn_correct += (prediction == y_train).sum()\n",
    "\n",
    "        # Back propagate\n",
    "        optimizer.zero_grad()\n",
    "        loss.backward()\n",
    "        optimizer.step()\n",
    "\n",
    "        if b % 200 == 0:\n",
    "            accuracy = trn_correct.item() * 100 / (b * 100)\n",
    "            print(f'epoch: {i}, batch: {b} -> loss: {loss}, accuracy: {accuracy}%')\n",
    "\n",
    "    train_loss.append(loss)\n",
    "    train_correct.append(trn_correct)\n",
    "\n",
    "    with torch.no_grad():\n",
    "\n",
    "        for b, (X_test, y_test) in enumerate(test_loader):\n",
    "\n",
    "            y_val = model.forward(X_test.view(500, -1))\n",
    "            loss = criterion(y_val, y_test)\n",
    "\n",
    "            prediction = torch.max(y_val, dim=1)[1]\n",
    "            tst_correct += (prediction == y_test).sum()\n",
    "\n",
    "        test_loss.append(loss)\n",
    "        test_correct.append(tst_correct)"
   ],
   "metadata": {
    "collapsed": false,
    "pycharm": {
     "name": "#%%\n"
    }
   }
  },
  {
   "cell_type": "code",
   "execution_count": 85,
   "outputs": [
    {
     "data": {
      "text/plain": "<matplotlib.legend.Legend at 0x2bac09a11c0>"
     },
     "execution_count": 85,
     "metadata": {},
     "output_type": "execute_result"
    },
    {
     "data": {
      "text/plain": "<Figure size 432x288 with 1 Axes>",
      "image/png": "[encoded data removed]"
     },
     "metadata": {
      "needs_background": "light"
     },
     "output_type": "display_data"
    }
   ],
   "source": [
    "plt.plot(train_loss, label=\"Training Loss\")\n",
    "plt.plot(test_loss, label=\"Test/Validation Loss\")\n",
    "plt.legend()\n",
    "\n",
    "# training_accuracy = [ / 600 for t in train_correct]"
   ],
   "metadata": {
    "collapsed": false,
    "pycharm": {
     "name": "#%%\n"
    }
   }
  },
  {
   "cell_type": "code",
   "execution_count": 92,
   "outputs": [
    {
     "data": {
      "text/plain": "<matplotlib.legend.Legend at 0x2bac64797c0>"
     },
     "execution_count": 92,
     "metadata": {},
     "output_type": "execute_result"
    },
    {
     "data": {
      "text/plain": "<Figure size 432x288 with 1 Axes>",
      "image/png": "[encoded data removed]"
     },
     "metadata": {
      "needs_background": "light"
     },
     "output_type": "display_data"
    }
   ],
   "source": [
    "train_accuracy = [t / 600 for t in train_correct]\n",
    "test_accuracy = [t / 100 for t in test_correct]\n",
    "\n",
    "plt.plot(train_accuracy, label='Training accuracy')\n",
    "plt.plot(test_accuracy, label='Test accuracy')\n",
    "plt.legend()"
   ],
   "metadata": {
    "collapsed": false,
    "pycharm": {
     "name": "#%%\n"
    }
   }
  },
  {
   "cell_type": "code",
   "execution_count": 99,
   "outputs": [
    {
     "name": "stdout",
     "output_type": "stream",
     "text": [
      "9724 out of 10000 is correct: 97.24000000000001%\n"
     ]
    }
   ],
   "source": [
    "# NEW UNSEEN DATA.\n",
    "test_data_all = DataLoader(test_data, batch_size=10_000, shuffle=False)\n",
    "\n",
    "with torch.no_grad():\n",
    "\n",
    "    correct = 0\n",
    "    for X_test, y_test in test_data_all:\n",
    "\n",
    "        y_pred = model.forward(X_test.view(X_test.shape[0], -1))\n",
    "        loss = criterion(y_pred, y_test)\n",
    "\n",
    "        predictions = torch.max(y_pred, dim=1)[1]\n",
    "        correct += (predictions == y_test).sum()\n",
    "\n",
    "    print(f'{correct.item()} out of {X_test.shape[0]} is correct: {(correct.item() / X_test.shape[0]) * 100}%')\n"
   ],
   "metadata": {
    "collapsed": false,
    "pycharm": {
     "name": "#%%\n"
    }
   }
  },
  {
   "cell_type": "code",
   "execution_count": 108,
   "outputs": [
    {
     "data": {
      "text/plain": "array([[ 971,    0,    4,    0,    3,    2,    9,    1,    6,    3],\n       [   0, 1122,    0,    0,    0,    0,    1,    2,    0,    3],\n       [   1,    5, 1009,    4,   10,    0,    1,   11,    5,    0],\n       [   1,    0,    6,  991,    0,    6,    1,    6,   15,    6],\n       [   0,    0,    1,    0,  942,    1,    2,    0,    0,    6],\n       [   2,    2,    3,    4,    2,  879,   14,    0,   21,   10],\n       [   1,    4,    2,    1,    6,    1,  930,    0,    6,    2],\n       [   1,    0,    1,    2,    2,    0,    0,  994,    2,    5],\n       [   3,    2,    6,    4,    3,    2,    0,    4,  917,    5],\n       [   0,    0,    0,    4,   14,    1,    0,   10,    2,  969]],\n      dtype=int64)"
     },
     "execution_count": 108,
     "metadata": {},
     "output_type": "execute_result"
    }
   ],
   "source": [
    "confusion_matrix(predictions.view(-1), y_test.view(-1))"
   ],
   "metadata": {
    "collapsed": false,
    "pycharm": {
     "name": "#%%\n"
    }
   }
  },
  {
   "cell_type": "code",
   "execution_count": 118,
   "outputs": [
    {
     "name": "stdout",
     "output_type": "stream",
     "text": [
      "torch.Size([10000, 1, 28, 28])\n"
     ]
    }
   ],
   "source": [],
   "metadata": {
    "collapsed": false,
    "pycharm": {
     "name": "#%%\n"
    }
   }
  }
 ],
 "metadata": {
  "kernelspec": {
   "name": "pycharm-a503b19",
   "language": "python",
   "display_name": "PyCharm (pytorch-tute)"
  },
  "language_info": {
   "codemirror_mode": {
    "name": "ipython",
    "version": 2
   },
   "file_extension": ".py",
   "mimetype": "text/x-python",
   "name": "python",
   "nbconvert_exporter": "python",
   "pygments_lexer": "ipython2",
   "version": "2.7.6"
  }
 },
 "nbformat": 4,
 "nbformat_minor": 0
}