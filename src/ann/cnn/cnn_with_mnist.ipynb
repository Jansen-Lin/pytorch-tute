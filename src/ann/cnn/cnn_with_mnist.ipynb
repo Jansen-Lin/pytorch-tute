{
 "cells": [
  {
   "cell_type": "code",
   "execution_count": 39,
   "metadata": {
    "collapsed": true
   },
   "outputs": [],
   "source": [
    "import torch\n",
    "import torch.nn as nn\n",
    "import torch.nn.functional as F\n",
    "import matplotlib.pyplot as plt\n",
    "import time\n",
    "from torch.utils.data import DataLoader\n",
    "from torchvision import datasets, transforms\n",
    "import numpy as np\n",
    "from sklearn.metrics import confusion_matrix"
   ]
  },
  {
   "cell_type": "code",
   "execution_count": 2,
   "outputs": [],
   "source": [
    "transform = transforms.ToTensor()\n",
    "\n",
    "train_dataset = datasets.MNIST(root=\"../../../../../../notebooks/Data\", train=True, download=True, transform=transform)\n",
    "test_dataset = datasets.MNIST(root=\"../../../../../../notebooks/Data\", train=False, download=True, transform=transform)"
   ],
   "metadata": {
    "collapsed": false,
    "pycharm": {
     "name": "#%%\n"
    }
   }
  },
  {
   "cell_type": "code",
   "execution_count": 4,
   "outputs": [],
   "source": [
    "train_loader = DataLoader(train_dataset, batch_size=10, shuffle=True)\n",
    "test_loader = DataLoader(test_dataset, batch_size=10, shuffle=False)"
   ],
   "metadata": {
    "collapsed": false,
    "pycharm": {
     "name": "#%%\n"
    }
   }
  },
  {
   "cell_type": "code",
   "execution_count": 9,
   "outputs": [],
   "source": [
    "class ConvolutionalNetwrok(nn.Module):\n",
    "\n",
    "    def __init__(self):\n",
    "        super().__init__()\n",
    "        self.conv1 = nn.Conv2d(in_channels=1, out_channels=6, kernel_size=3, stride=1)\n",
    "        self.conv2 = nn.Conv2d(in_channels=6, out_channels=16, kernel_size=3, stride=1)\n",
    "        self.fc1 = nn.Linear(in_features=5 * 5 * 16, out_features=120)\n",
    "        self.fc2 = nn.Linear(in_features=120, out_features=84)\n",
    "        self.fc3 = nn.Linear(in_features=84, out_features=10)\n",
    "        self.pool1 = nn.MaxPool2d(kernel_size=2, stride=2)\n",
    "\n",
    "    def forward(self, X):\n",
    "        X = F.relu(self.conv1(X))\n",
    "        X = self.pool1(X)\n",
    "        X = F.relu(self.conv2(X))\n",
    "        X = self.pool1(X)\n",
    "        X = F.relu(self.fc1(X.view(-1, 16 * 5 * 5)))\n",
    "        X = F.relu(self.fc2(X))\n",
    "        return F.log_softmax(self.fc3(X), dim=1)"
   ],
   "metadata": {
    "collapsed": false,
    "pycharm": {
     "name": "#%%\n"
    }
   }
  },
  {
   "cell_type": "code",
   "execution_count": 25,
   "outputs": [
    {
     "name": "stdout",
     "output_type": "stream",
     "text": [
      "ConvolutionalNetwrok(\n",
      "  (conv1): Conv2d(1, 6, kernel_size=(3, 3), stride=(1, 1))\n",
      "  (conv2): Conv2d(6, 16, kernel_size=(3, 3), stride=(1, 1))\n",
      "  (fc1): Linear(in_features=400, out_features=120, bias=True)\n",
      "  (fc2): Linear(in_features=120, out_features=84, bias=True)\n",
      "  (fc3): Linear(in_features=84, out_features=10, bias=True)\n",
      "  (pool1): MaxPool2d(kernel_size=2, stride=2, padding=0, dilation=1, ceil_mode=False)\n",
      ")\n"
     ]
    }
   ],
   "source": [
    "torch.manual_seed(42)\n",
    "model = ConvolutionalNetwrok()\n",
    "print(model)"
   ],
   "metadata": {
    "collapsed": false,
    "pycharm": {
     "name": "#%%\n"
    }
   }
  },
  {
   "cell_type": "code",
   "execution_count": 26,
   "outputs": [
    {
     "name": "stdout",
     "output_type": "stream",
     "text": [
      "epoch: 1, batch: 600 -> loss: 0.19493041932582855\n",
      "epoch: 1, batch: 1200 -> loss: 0.6738497614860535\n",
      "epoch: 1, batch: 1800 -> loss: 0.017310509458184242\n",
      "epoch: 1, batch: 2400 -> loss: 0.020375916734337807\n",
      "epoch: 1, batch: 3000 -> loss: 0.007028916385024786\n",
      "epoch: 1, batch: 3600 -> loss: 0.0048072850331664085\n",
      "epoch: 1, batch: 4200 -> loss: 0.03562027961015701\n",
      "epoch: 1, batch: 4800 -> loss: 0.005274134688079357\n",
      "epoch: 1, batch: 5400 -> loss: 0.00018321903189644217\n",
      "epoch: 1, batch: 6000 -> loss: 0.002506965072825551\n",
      "epoch: 2, batch: 600 -> loss: 0.01866394840180874\n",
      "epoch: 2, batch: 1200 -> loss: 0.3694322407245636\n",
      "epoch: 2, batch: 1800 -> loss: 0.20678631961345673\n",
      "epoch: 2, batch: 2400 -> loss: 0.002010763855651021\n",
      "epoch: 2, batch: 3000 -> loss: 0.0003111782716587186\n",
      "epoch: 2, batch: 3600 -> loss: 0.21611182391643524\n",
      "epoch: 2, batch: 4200 -> loss: 0.02720436453819275\n",
      "epoch: 2, batch: 4800 -> loss: 0.1990480124950409\n",
      "epoch: 2, batch: 5400 -> loss: 0.0009417886612936854\n",
      "epoch: 2, batch: 6000 -> loss: 0.0044702766463160515\n",
      "epoch: 3, batch: 600 -> loss: 0.003343942342326045\n",
      "epoch: 3, batch: 1200 -> loss: 0.0009818306425586343\n",
      "epoch: 3, batch: 1800 -> loss: 0.0001858127798186615\n",
      "epoch: 3, batch: 2400 -> loss: 0.000886054418515414\n",
      "epoch: 3, batch: 3000 -> loss: 0.02923012711107731\n",
      "epoch: 3, batch: 3600 -> loss: 7.063776138238609e-05\n",
      "epoch: 3, batch: 4200 -> loss: 0.000716185022611171\n",
      "epoch: 3, batch: 4800 -> loss: 0.0010157425422221422\n",
      "epoch: 3, batch: 5400 -> loss: 0.0008133499068208039\n",
      "epoch: 3, batch: 6000 -> loss: 8.171987428795546e-05\n",
      "epoch: 4, batch: 600 -> loss: 0.007006646599620581\n",
      "epoch: 4, batch: 1200 -> loss: 0.0022028882522135973\n",
      "epoch: 4, batch: 1800 -> loss: 0.010799203999340534\n",
      "epoch: 4, batch: 2400 -> loss: 0.0011065754806622863\n",
      "epoch: 4, batch: 3000 -> loss: 2.9072481993352994e-05\n",
      "epoch: 4, batch: 3600 -> loss: 0.0075316959992051125\n",
      "epoch: 4, batch: 4200 -> loss: 0.0035033703316003084\n",
      "epoch: 4, batch: 4800 -> loss: 0.004587704781442881\n",
      "epoch: 4, batch: 5400 -> loss: 0.004835011437535286\n",
      "epoch: 4, batch: 6000 -> loss: 0.0010794338304549456\n",
      "epoch: 5, batch: 600 -> loss: 0.0007652000058442354\n",
      "epoch: 5, batch: 1200 -> loss: 0.12617740035057068\n",
      "epoch: 5, batch: 1800 -> loss: 0.003551611676812172\n",
      "epoch: 5, batch: 2400 -> loss: 1.8762411855277605e-05\n",
      "epoch: 5, batch: 3000 -> loss: 0.00370580842718482\n",
      "epoch: 5, batch: 3600 -> loss: 0.00032478911452926695\n",
      "epoch: 5, batch: 4200 -> loss: 0.0009919326985254884\n",
      "epoch: 5, batch: 4800 -> loss: 0.0004714035021606833\n",
      "epoch: 5, batch: 5400 -> loss: 0.0394115075469017\n",
      "epoch: 5, batch: 6000 -> loss: 0.0015091391978785396\n",
      "Time to complete 5.09 minutes\n"
     ]
    }
   ],
   "source": [
    "# Train the model.\n",
    "\n",
    "start = time.time()\n",
    "\n",
    "epoch = 5\n",
    "train_loss = []\n",
    "train_correct = []\n",
    "test_loss = []\n",
    "test_correct = []\n",
    "\n",
    "criterion = nn.CrossEntropyLoss()\n",
    "optimizer = torch.optim.Adam(model.parameters(), lr=0.001)\n",
    "\n",
    "for i in range(epoch):\n",
    "    i += 1\n",
    "\n",
    "    trn_crt = 0\n",
    "    tst_crt = 0\n",
    "\n",
    "    for b, (X_train, y_train) in enumerate(train_loader):\n",
    "        b += 1\n",
    "\n",
    "        y_pred = model.forward(X_train)\n",
    "        loss = criterion(y_pred, y_train)\n",
    "\n",
    "        predicted = torch.max(y_pred, dim=1)[1]\n",
    "        trn_crt += (predicted == y_train).sum()\n",
    "\n",
    "        # Back propagate.\n",
    "        optimizer.zero_grad()\n",
    "        loss.backward()\n",
    "        optimizer.step()\n",
    "\n",
    "        if b % 600 == 0:\n",
    "            print(f'epoch: {i}, batch: {b} -> loss: {loss}')\n",
    "\n",
    "    train_loss.append(loss)\n",
    "    train_correct.append(trn_crt)\n",
    "\n",
    "    with torch.no_grad():\n",
    "\n",
    "        for b, (X_test, y_test) in enumerate(test_loader):\n",
    "\n",
    "            y_pred = model.forward(X_test)\n",
    "            loss = criterion(y_pred, y_test)\n",
    "\n",
    "            predicted = torch.max(y_pred, dim=1)[1]\n",
    "            tst_crt += (predicted == y_test).sum()\n",
    "\n",
    "        test_loss.append(loss)\n",
    "        test_correct.append(tst_crt)\n",
    "\n",
    "\n",
    "duration = time.time() - start\n",
    "print(f\"Time to complete {duration / 60:.2f} minutes\")"
   ],
   "metadata": {
    "collapsed": false,
    "pycharm": {
     "name": "#%%\n"
    }
   }
  },
  {
   "cell_type": "code",
   "execution_count": 27,
   "outputs": [
    {
     "data": {
      "text/plain": "<matplotlib.legend.Legend at 0x1aecd371310>"
     },
     "execution_count": 27,
     "metadata": {},
     "output_type": "execute_result"
    },
    {
     "data": {
      "text/plain": "<Figure size 432x288 with 1 Axes>",
      "image/png": "[encoded data removed]"
     },
     "metadata": {
      "needs_background": "light"
     },
     "output_type": "display_data"
    }
   ],
   "source": [
    "plt.plot(train_loss, label=\"Training Loss\")\n",
    "plt.plot(test_loss, label=\"Validation Loss\")\n",
    "plt.title(\"Loss at epoch\")\n",
    "plt.legend()"
   ],
   "metadata": {
    "collapsed": false,
    "pycharm": {
     "name": "#%%\n"
    }
   }
  },
  {
   "cell_type": "code",
   "execution_count": 28,
   "outputs": [
    {
     "data": {
      "text/plain": "<Figure size 432x288 with 1 Axes>",
      "image/png": "[encoded data removed]"
     },
     "metadata": {
      "needs_background": "light"
     },
     "output_type": "display_data"
    }
   ],
   "source": [
    "plt.plot([t/600 for t in train_correct], label='training accuracy')\n",
    "plt.plot([t/100 for t in test_correct], label='validation accuracy')\n",
    "plt.title('Accuracy at the end of each epoch')\n",
    "plt.legend();"
   ],
   "metadata": {
    "collapsed": false,
    "pycharm": {
     "name": "#%%\n"
    }
   }
  },
  {
   "cell_type": "code",
   "execution_count": 37,
   "outputs": [
    {
     "name": "stdout",
     "output_type": "stream",
     "text": [
      "98.0000\n"
     ]
    }
   ],
   "source": [
    "# Predict on actual demonstration.\n",
    "test_all_data = DataLoader(test_dataset, batch_size=10_000, shuffle=False)\n",
    "\n",
    "with torch.no_grad():\n",
    "\n",
    "    y_correct = 0\n",
    "\n",
    "    for X_test, y_test in test_all_data:\n",
    "\n",
    "        y_pred = model.forward(X_test)\n",
    "\n",
    "        predicted = torch.max(y_pred, dim=1)[1]\n",
    "        y_correct += (predicted == y_test).sum()\n",
    "\n",
    "        print(f'{int(y_correct.item() / len(y_pred) * 100):.4f}')"
   ],
   "metadata": {
    "collapsed": false,
    "pycharm": {
     "name": "#%%\n"
    }
   }
  },
  {
   "cell_type": "code",
   "execution_count": 40,
   "outputs": [
    {
     "name": "stdout",
     "output_type": "stream",
     "text": [
      "[[   0    1    2    3    4    5    6    7    8    9]]\n",
      "\n",
      "[[ 976    0    0    0    1    2    5    2    4    2]\n",
      " [   1 1130    5    0    0    0    2    3    0    2]\n",
      " [   1    2 1019    8    1    0    1    8    4    0]\n",
      " [   0    0    0  994    0    8    0    0    0    1]\n",
      " [   0    0    2    0  976    0    2    0    1    8]\n",
      " [   0    1    0    4    0  872    1    0    0    3]\n",
      " [   1    1    0    0    1    5  945    0    1    0]\n",
      " [   1    0    5    1    0    1    0 1011    1    4]\n",
      " [   0    1    1    3    0    1    2    3  959    4]\n",
      " [   0    0    0    0    3    3    0    1    4  985]]\n"
     ]
    }
   ],
   "source": [
    "# print a row of values for reference\n",
    "np.set_printoptions(formatter=dict(int=lambda x: f'{x:4}'))\n",
    "print(np.arange(10).reshape(1,10))\n",
    "print()\n",
    "\n",
    "# print the confusion matrix\n",
    "print(confusion_matrix(predicted.view(-1), y_test.view(-1)))"
   ],
   "metadata": {
    "collapsed": false,
    "pycharm": {
     "name": "#%%\n"
    }
   }
  },
  {
   "cell_type": "code",
   "execution_count": 59,
   "outputs": [
    {
     "name": "stdout",
     "output_type": "stream",
     "text": [
      "tensor([[0.0000, 0.0000, 0.0000, 0.0000, 0.0000, 0.0000, 0.0000, 0.0000, 0.0000,\n",
      "         0.0000, 0.0000, 0.0000, 0.0000, 0.0000, 0.0000, 0.0000, 0.0000, 0.0000,\n",
      "         0.0000, 0.0000, 0.0000, 0.0000, 0.0000, 0.0000, 0.0000, 0.0000, 0.0000,\n",
      "         0.0000],\n",
      "        [0.0000, 0.0000, 0.0000, 0.0000, 0.0000, 0.0000, 0.0000, 0.0000, 0.0000,\n",
      "         0.0000, 0.0000, 0.0000, 0.0000, 0.0000, 0.0000, 0.0000, 0.0000, 0.0000,\n",
      "         0.0000, 0.0000, 0.0000, 0.0000, 0.0000, 0.0000, 0.0000, 0.0000, 0.0000,\n",
      "         0.0000],\n",
      "        [0.0000, 0.0000, 0.0000, 0.0000, 0.0000, 0.0000, 0.0000, 0.0000, 0.0000,\n",
      "         0.0000, 0.0000, 0.0000, 0.0000, 0.0000, 0.0000, 0.0000, 0.0000, 0.0000,\n",
      "         0.0000, 0.0000, 0.0000, 0.0000, 0.0000, 0.0000, 0.0000, 0.0000, 0.0000,\n",
      "         0.0000],\n",
      "        [0.0000, 0.0000, 0.0000, 0.0000, 0.0000, 0.0000, 0.0000, 0.0000, 0.0000,\n",
      "         0.0000, 0.0000, 0.0000, 0.0000, 0.0000, 0.0000, 0.0000, 0.0000, 0.0000,\n",
      "         0.0000, 0.0000, 0.0000, 0.0000, 0.0000, 0.0000, 0.0000, 0.0000, 0.0000,\n",
      "         0.0000],\n",
      "        [0.0000, 0.0000, 0.0000, 0.0000, 0.0000, 0.0000, 0.0000, 0.0000, 0.0000,\n",
      "         0.0000, 0.0000, 0.0000, 0.0000, 0.0000, 0.0000, 0.0000, 0.0000, 0.0000,\n",
      "         0.0000, 0.0000, 0.0000, 0.0000, 0.0000, 0.0000, 0.0000, 0.0000, 0.0000,\n",
      "         0.0000],\n",
      "        [0.0000, 0.0000, 0.0000, 0.0000, 0.0000, 0.0000, 0.0000, 0.0000, 0.0000,\n",
      "         0.0039, 0.0275, 0.3490, 0.5098, 0.8588, 0.9961, 0.9961, 0.9961, 0.9961,\n",
      "         0.9961, 0.8196, 0.5098, 0.0706, 0.0039, 0.0000, 0.0000, 0.0000, 0.0000,\n",
      "         0.0000],\n",
      "        [0.0000, 0.0000, 0.0000, 0.0000, 0.0000, 0.0000, 0.0000, 0.0000, 0.0784,\n",
      "         0.5922, 0.9922, 0.9922, 0.9608, 0.9451, 0.9451, 0.9451, 0.9451, 0.5490,\n",
      "         0.4588, 0.8745, 0.9882, 0.9922, 0.5647, 0.0510, 0.0000, 0.0000, 0.0000,\n",
      "         0.0000],\n",
      "        [0.0000, 0.0000, 0.0000, 0.0000, 0.0000, 0.0000, 0.0000, 0.0431, 0.8157,\n",
      "         0.9922, 0.8745, 0.4353, 0.1373, 0.0000, 0.0000, 0.0000, 0.0000, 0.0000,\n",
      "         0.0000, 0.0000, 0.3843, 0.9059, 0.9922, 0.5647, 0.0039, 0.0000, 0.0000,\n",
      "         0.0000],\n",
      "        [0.0000, 0.0000, 0.0000, 0.0000, 0.0000, 0.0000, 0.0000, 0.3608, 0.9922,\n",
      "         0.9216, 0.1490, 0.0000, 0.0000, 0.0000, 0.0000, 0.0000, 0.0000, 0.0000,\n",
      "         0.0000, 0.0000, 0.0000, 0.1725, 0.9529, 0.9922, 0.0196, 0.0000, 0.0000,\n",
      "         0.0000],\n",
      "        [0.0000, 0.0000, 0.0000, 0.0000, 0.0000, 0.0000, 0.0000, 0.5608, 0.9922,\n",
      "         0.8118, 0.0000, 0.0000, 0.0000, 0.0000, 0.0000, 0.0000, 0.0000, 0.0000,\n",
      "         0.0000, 0.0000, 0.0000, 0.0000, 0.5725, 0.7020, 0.0078, 0.0000, 0.0000,\n",
      "         0.0000],\n",
      "        [0.0000, 0.0000, 0.0000, 0.0000, 0.0000, 0.0000, 0.0000, 0.4902, 0.9922,\n",
      "         0.7137, 0.0549, 0.0000, 0.0000, 0.0000, 0.0000, 0.0000, 0.0000, 0.0000,\n",
      "         0.0000, 0.0000, 0.0000, 0.0000, 0.0000, 0.1804, 0.0000, 0.0000, 0.0000,\n",
      "         0.0000],\n",
      "        [0.0000, 0.0000, 0.0000, 0.0000, 0.0000, 0.0000, 0.0000, 0.0627, 0.9216,\n",
      "         0.9922, 0.4471, 0.0000, 0.0000, 0.0000, 0.0000, 0.0000, 0.0000, 0.0000,\n",
      "         0.0000, 0.0000, 0.0000, 0.0000, 0.0000, 0.0000, 0.0000, 0.0000, 0.0000,\n",
      "         0.0000],\n",
      "        [0.0000, 0.0000, 0.0000, 0.0000, 0.0000, 0.0000, 0.0000, 0.0000, 0.2510,\n",
      "         0.9922, 0.9490, 0.5647, 0.0000, 0.0000, 0.0000, 0.0000, 0.0000, 0.0000,\n",
      "         0.0000, 0.0000, 0.0000, 0.0000, 0.0000, 0.0000, 0.0000, 0.0000, 0.0000,\n",
      "         0.0000],\n",
      "        [0.0000, 0.0000, 0.0000, 0.0000, 0.0000, 0.0000, 0.0000, 0.0000, 0.0314,\n",
      "         0.3490, 0.9137, 0.9451, 0.6078, 0.0667, 0.0000, 0.0000, 0.0000, 0.0000,\n",
      "         0.0000, 0.0000, 0.0000, 0.0000, 0.0000, 0.0000, 0.0000, 0.0000, 0.0000,\n",
      "         0.0000],\n",
      "        [0.0000, 0.0000, 0.0000, 0.0000, 0.0000, 0.0000, 0.0000, 0.0000, 0.0000,\n",
      "         0.0000, 0.2431, 0.9098, 0.9922, 0.6980, 0.1843, 0.0000, 0.0000, 0.0000,\n",
      "         0.0000, 0.0000, 0.0000, 0.0000, 0.0000, 0.0000, 0.0000, 0.0000, 0.0000,\n",
      "         0.0000],\n",
      "        [0.0000, 0.0000, 0.0000, 0.0000, 0.0000, 0.0000, 0.0000, 0.0000, 0.0000,\n",
      "         0.0000, 0.0000, 0.2431, 0.9098, 0.9922, 0.8157, 0.1961, 0.0000, 0.0000,\n",
      "         0.0000, 0.0000, 0.0000, 0.0000, 0.0000, 0.0000, 0.0000, 0.0000, 0.0000,\n",
      "         0.0000],\n",
      "        [0.0000, 0.0000, 0.0000, 0.0000, 0.0000, 0.0000, 0.0000, 0.0000, 0.0000,\n",
      "         0.0000, 0.0000, 0.0000, 0.1490, 0.6235, 0.9922, 0.9333, 0.1686, 0.0000,\n",
      "         0.0000, 0.0000, 0.0000, 0.0000, 0.0000, 0.0000, 0.0000, 0.0000, 0.0000,\n",
      "         0.0000],\n",
      "        [0.0000, 0.0000, 0.0000, 0.0000, 0.0000, 0.0000, 0.0000, 0.0000, 0.0000,\n",
      "         0.0000, 0.0000, 0.0000, 0.0000, 0.0431, 0.6235, 0.9922, 0.8431, 0.3098,\n",
      "         0.0000, 0.0000, 0.0000, 0.0000, 0.0000, 0.0000, 0.0000, 0.0000, 0.0000,\n",
      "         0.0000],\n",
      "        [0.0000, 0.0000, 0.0000, 0.0000, 0.0000, 0.0000, 0.0000, 0.0000, 0.0000,\n",
      "         0.0000, 0.0000, 0.0000, 0.0000, 0.0000, 0.0431, 0.6275, 0.9922, 0.6745,\n",
      "         0.0000, 0.0000, 0.0000, 0.0000, 0.0000, 0.0000, 0.0000, 0.0000, 0.0000,\n",
      "         0.0000],\n",
      "        [0.0000, 0.0000, 0.0000, 0.0000, 0.0000, 0.0000, 0.0000, 0.0000, 0.0000,\n",
      "         0.0000, 0.0000, 0.0000, 0.0000, 0.0000, 0.0000, 0.0392, 0.8078, 0.9490,\n",
      "         0.1451, 0.0000, 0.0000, 0.0000, 0.0000, 0.0000, 0.0000, 0.0000, 0.0000,\n",
      "         0.0000],\n",
      "        [0.0000, 0.0000, 0.0000, 0.0000, 0.0000, 0.0000, 0.0000, 0.0000, 0.0000,\n",
      "         0.0000, 0.0000, 0.0000, 0.0000, 0.0000, 0.0000, 0.0000, 0.7804, 0.9922,\n",
      "         0.3608, 0.0000, 0.0000, 0.0000, 0.0000, 0.0000, 0.0000, 0.0000, 0.0000,\n",
      "         0.0000],\n",
      "        [0.0000, 0.0000, 0.0000, 0.0000, 0.0000, 0.0000, 0.0000, 0.0000, 0.0000,\n",
      "         0.0000, 0.0000, 0.0000, 0.0000, 0.0000, 0.0000, 0.0000, 0.7804, 0.9922,\n",
      "         0.6510, 0.0000, 0.0000, 0.0000, 0.0000, 0.0000, 0.0000, 0.0000, 0.0000,\n",
      "         0.0000],\n",
      "        [0.0000, 0.0000, 0.0000, 0.0000, 0.0000, 0.0000, 0.0000, 0.0000, 0.0000,\n",
      "         0.0000, 0.0000, 0.2941, 0.4392, 0.4392, 0.5569, 0.9255, 0.9765, 0.9922,\n",
      "         0.4392, 0.0000, 0.0000, 0.0000, 0.0000, 0.0000, 0.0000, 0.0000, 0.0000,\n",
      "         0.0000],\n",
      "        [0.0000, 0.0000, 0.0000, 0.0000, 0.0000, 0.0118, 0.4667, 0.4667, 0.4667,\n",
      "         0.7608, 0.9490, 0.9765, 0.9922, 0.9922, 0.9922, 0.9922, 0.9922, 0.4667,\n",
      "         0.0078, 0.0000, 0.0000, 0.0000, 0.0000, 0.0000, 0.0000, 0.0000, 0.0000,\n",
      "         0.0000],\n",
      "        [0.0000, 0.0000, 0.0000, 0.0000, 0.0000, 0.0039, 0.2863, 0.5412, 0.9922,\n",
      "         0.9922, 0.9922, 0.9922, 0.9922, 0.8863, 0.7451, 0.5059, 0.1255, 0.0039,\n",
      "         0.0000, 0.0000, 0.0000, 0.0000, 0.0000, 0.0000, 0.0000, 0.0000, 0.0000,\n",
      "         0.0000],\n",
      "        [0.0000, 0.0000, 0.0000, 0.0000, 0.0000, 0.0000, 0.0000, 0.0000, 0.0000,\n",
      "         0.0000, 0.0000, 0.0000, 0.0000, 0.0000, 0.0000, 0.0000, 0.0000, 0.0000,\n",
      "         0.0000, 0.0000, 0.0000, 0.0000, 0.0000, 0.0000, 0.0000, 0.0000, 0.0000,\n",
      "         0.0000],\n",
      "        [0.0000, 0.0000, 0.0000, 0.0000, 0.0000, 0.0000, 0.0000, 0.0000, 0.0000,\n",
      "         0.0000, 0.0000, 0.0000, 0.0000, 0.0000, 0.0000, 0.0000, 0.0000, 0.0000,\n",
      "         0.0000, 0.0000, 0.0000, 0.0000, 0.0000, 0.0000, 0.0000, 0.0000, 0.0000,\n",
      "         0.0000],\n",
      "        [0.0000, 0.0000, 0.0000, 0.0000, 0.0000, 0.0000, 0.0000, 0.0000, 0.0000,\n",
      "         0.0000, 0.0000, 0.0000, 0.0000, 0.0000, 0.0000, 0.0000, 0.0000, 0.0000,\n",
      "         0.0000, 0.0000, 0.0000, 0.0000, 0.0000, 0.0000, 0.0000, 0.0000, 0.0000,\n",
      "         0.0000]])\n",
      "torch.Size([28, 28])\n"
     ]
    }
   ],
   "source": [
    "# Feed and predict a single image.\n",
    "s_img = test_dataset[333][0].reshape(28, -1)\n",
    "print(s_img)\n",
    "print(s_img.shape)"
   ],
   "metadata": {
    "collapsed": false,
    "pycharm": {
     "name": "#%%\n"
    }
   }
  },
  {
   "cell_type": "code",
   "execution_count": 60,
   "outputs": [
    {
     "data": {
      "text/plain": "<matplotlib.image.AxesImage at 0x1aed1ed2340>"
     },
     "execution_count": 60,
     "metadata": {},
     "output_type": "execute_result"
    },
    {
     "data": {
      "text/plain": "<Figure size 432x288 with 1 Axes>",
      "image/png": "[encoded data removed]"
     },
     "metadata": {
      "needs_background": "light"
     },
     "output_type": "display_data"
    }
   ],
   "source": [
    "plt.imshow(s_img)"
   ],
   "metadata": {
    "collapsed": false,
    "pycharm": {
     "name": "#%%\n"
    }
   }
  },
  {
   "cell_type": "code",
   "execution_count": 61,
   "outputs": [
    {
     "name": "stdout",
     "output_type": "stream",
     "text": [
      "tensor(5)\n"
     ]
    }
   ],
   "source": [
    "# Predict the value.\n",
    "\n",
    "model.eval()\n",
    "with torch.no_grad():\n",
    "\n",
    "    y_pred = model.forward(s_img.view(1, -1, 28, 28))\n",
    "    print(y_pred.argmax())\n"
   ],
   "metadata": {
    "collapsed": false,
    "pycharm": {
     "name": "#%%\n"
    }
   }
  }
 ],
 "metadata": {
  "kernelspec": {
   "name": "pycharm-a503b19",
   "language": "python",
   "display_name": "PyCharm (pytorch-tute)"
  },
  "language_info": {
   "codemirror_mode": {
    "name": "ipython",
    "version": 2
   },
   "file_extension": ".py",
   "mimetype": "text/x-python",
   "name": "python",
   "nbconvert_exporter": "python",
   "pygments_lexer": "ipython2",
   "version": "2.7.6"
  }
 },
 "nbformat": 4,
 "nbformat_minor": 0
}