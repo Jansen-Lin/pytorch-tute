{
 "cells": [
  {
   "cell_type": "code",
   "execution_count": 1,
   "metadata": {
    "collapsed": true
   },
   "outputs": [],
   "source": [
    "import torch\n",
    "import torch.nn as nn\n",
    "import torch.nn.functional as F\n",
    "from torch.utils.data import DataLoader\n",
    "from torchvision import datasets, transforms\n",
    "from torchvision.utils import make_grid\n",
    "from sklearn.metrics import confusion_matrix\n",
    "import seaborn as sn\n",
    "\n",
    "import pandas as pd\n",
    "import numpy as np\n",
    "import matplotlib.pyplot as plt"
   ]
  },
  {
   "cell_type": "code",
   "execution_count": 2,
   "outputs": [
    {
     "name": "stdout",
     "output_type": "stream",
     "text": [
      "Dataset MNIST\n",
      "    Number of datapoints: 60000\n",
      "    Root location: ../../../notebooks/Data/\n",
      "    Split: Train\n",
      "    StandardTransform\n",
      "Transform: ToTensor()\n",
      "Dataset MNIST\n",
      "    Number of datapoints: 10000\n",
      "    Root location: ../../../notebooks/Data/\n",
      "    Split: Test\n",
      "    StandardTransform\n",
      "Transform: ToTensor()\n"
     ]
    }
   ],
   "source": [
    "transform = transforms.ToTensor()\n",
    "train_data = datasets.MNIST(root=\"../../../notebooks/Data/\", train=True, download=True, transform=transform)\n",
    "test_data = datasets.MNIST(root=\"../../../notebooks/Data/\", train=False, download=True, transform=transform)\n",
    "\n",
    "print(train_data)\n",
    "print(test_data)"
   ],
   "metadata": {
    "collapsed": false,
    "pycharm": {
     "name": "#%%\n"
    }
   }
  },
  {
   "cell_type": "code",
   "execution_count": 3,
   "outputs": [
    {
     "data": {
      "text/plain": "<matplotlib.image.AxesImage at 0x23fb7e31760>"
     },
     "execution_count": 3,
     "metadata": {},
     "output_type": "execute_result"
    },
    {
     "data": {
      "text/plain": "<Figure size 432x288 with 1 Axes>",
      "image/png": "[encoded data removed]"
     },
     "metadata": {
      "needs_background": "light"
     },
     "output_type": "display_data"
    }
   ],
   "source": [
    "image, label = None, None\n",
    "for image, label in train_data:\n",
    "    break\n",
    "\n",
    "plt.imshow(image.view(28, -1), cmap='gist_yarg')"
   ],
   "metadata": {
    "collapsed": false,
    "pycharm": {
     "name": "#%%\n"
    }
   }
  },
  {
   "cell_type": "code",
   "execution_count": 4,
   "outputs": [],
   "source": [
    "torch.manual_seed(42)\n",
    "# Load batches of training and test data sets.\n",
    "train_loader = DataLoader(train_data, batch_size=10, shuffle=True)\n",
    "test_loader = DataLoader(test_data, batch_size=10, shuffle=False)"
   ],
   "metadata": {
    "collapsed": false,
    "pycharm": {
     "name": "#%%\n"
    }
   }
  },
  {
   "cell_type": "code",
   "execution_count": 5,
   "outputs": [
    {
     "name": "stdout",
     "output_type": "stream",
     "text": [
      "[8 1 4 6 3 4 0 2 7 6]\n"
     ]
    },
    {
     "data": {
      "text/plain": "<Figure size 864x288 with 1 Axes>",
      "image/png": "[encoded data removed]"
     },
     "metadata": {
      "needs_background": "light"
     },
     "output_type": "display_data"
    }
   ],
   "source": [
    "# Show a grid.\n",
    "for image, label in train_loader:\n",
    "    break\n",
    "\n",
    "images = make_grid(image, nrow=10)\n",
    "plt.figure(figsize=(12, 4))\n",
    "plt.imshow(np.transpose(images.numpy(), axes=(1, 2, 0)))\n",
    "print(\"{}\".format(label.numpy()))"
   ],
   "metadata": {
    "collapsed": false,
    "pycharm": {
     "name": "#%%\n"
    }
   }
  },
  {
   "cell_type": "code",
   "execution_count": 23,
   "outputs": [
    {
     "name": "stdout",
     "output_type": "stream",
     "text": [
      "CCNetwork(\n",
      "  (conv1): Conv2d(1, 6, kernel_size=(3, 3), stride=(1, 1))\n",
      "  (conv2): Conv2d(6, 16, kernel_size=(3, 3), stride=(1, 1))\n",
      "  (linear): Linear(in_features=400, out_features=10, bias=True)\n",
      "  (pool1): MaxPool2d(kernel_size=2, stride=2, padding=0, dilation=1, ceil_mode=False)\n",
      ")\n",
      "Parameters: 4950\n"
     ]
    }
   ],
   "source": [
    "# Network.\n",
    "class CCNetwork(nn.Module):\n",
    "\n",
    "    def __init__(self):\n",
    "        super().__init__()\n",
    "        self.conv1 = nn.Conv2d(in_channels=1, out_channels=6, kernel_size=3, stride=1)\n",
    "        self.conv2 = nn.Conv2d(in_channels=6, out_channels=16, kernel_size=3, stride=1)\n",
    "        self.linear = nn.Linear(16 * 5 * 5, 10)\n",
    "        self.pool1 = nn.MaxPool2d(kernel_size=2, stride=2)\n",
    "\n",
    "    def forward(self, x):\n",
    "        x = F.relu(self.conv1(x))\n",
    "        x = self.pool1(x)\n",
    "        x = F.relu(self.conv2(x))\n",
    "        x = self.pool1(x)\n",
    "        return F.log_softmax(self.linear(x.view(-1, 16 * 5 * 5)), dim=1)\n",
    "\n",
    "model = CCNetwork()\n",
    "print(model)\n",
    "\n",
    "count = 0\n",
    "for params in model.parameters():\n",
    "    count += params.numel()\n",
    "print(f\"Parameters: {count}\")"
   ],
   "metadata": {
    "collapsed": false,
    "pycharm": {
     "name": "#%%\n"
    }
   }
  },
  {
   "cell_type": "code",
   "execution_count": 24,
   "outputs": [
    {
     "name": "stdout",
     "output_type": "stream",
     "text": [
      "ecpoch: 1, batch: 600 -> loss -> 0.5022104382514954\n",
      "ecpoch: 1, batch: 1200 -> loss -> 0.3948657214641571\n",
      "ecpoch: 1, batch: 1800 -> loss -> 0.19166328012943268\n",
      "ecpoch: 1, batch: 2400 -> loss -> 0.13003653287887573\n",
      "ecpoch: 1, batch: 3000 -> loss -> 0.023093903437256813\n",
      "ecpoch: 1, batch: 3600 -> loss -> 0.056347548961639404\n",
      "ecpoch: 1, batch: 4200 -> loss -> 0.48476648330688477\n",
      "ecpoch: 1, batch: 4800 -> loss -> 0.49775147438049316\n",
      "ecpoch: 1, batch: 5400 -> loss -> 0.06610694527626038\n",
      "ecpoch: 1, batch: 6000 -> loss -> 0.035062577575445175\n",
      "ecpoch: 2, batch: 600 -> loss -> 0.0033233806025236845\n",
      "ecpoch: 2, batch: 1200 -> loss -> 0.3387758731842041\n",
      "ecpoch: 2, batch: 1800 -> loss -> 0.08270198851823807\n",
      "ecpoch: 2, batch: 2400 -> loss -> 0.09047270566225052\n",
      "ecpoch: 2, batch: 3000 -> loss -> 0.0014323112554848194\n",
      "ecpoch: 2, batch: 3600 -> loss -> 0.030435657128691673\n",
      "ecpoch: 2, batch: 4200 -> loss -> 0.016525711864233017\n",
      "ecpoch: 2, batch: 4800 -> loss -> 0.051743991672992706\n",
      "ecpoch: 2, batch: 5400 -> loss -> 0.0007954317261464894\n",
      "ecpoch: 2, batch: 6000 -> loss -> 0.0037461731117218733\n",
      "ecpoch: 3, batch: 600 -> loss -> 0.0014602085575461388\n",
      "ecpoch: 3, batch: 1200 -> loss -> 0.005086349789053202\n",
      "ecpoch: 3, batch: 1800 -> loss -> 0.013695558533072472\n",
      "ecpoch: 3, batch: 2400 -> loss -> 0.03904899209737778\n",
      "ecpoch: 3, batch: 3000 -> loss -> 0.0016180049860849977\n",
      "ecpoch: 3, batch: 3600 -> loss -> 0.0016174608608707786\n",
      "ecpoch: 3, batch: 4200 -> loss -> 0.04411410540342331\n",
      "ecpoch: 3, batch: 4800 -> loss -> 0.004696340300142765\n",
      "ecpoch: 3, batch: 5400 -> loss -> 0.10163892805576324\n",
      "ecpoch: 3, batch: 6000 -> loss -> 0.09024988114833832\n"
     ]
    }
   ],
   "source": [
    "# Train the model.\n",
    "criterion = nn.CrossEntropyLoss()\n",
    "optimizer = torch.optim.Adam(model.parameters(), lr=0.001)\n",
    "\n",
    "epoch = 3\n",
    "losses = []\n",
    "\n",
    "train_correct = []\n",
    "train_losses = []\n",
    "\n",
    "test_correct = []\n",
    "test_losses = []\n",
    "\n",
    "for i in range(epoch):\n",
    "    i += 1\n",
    "    trn_correct = 0\n",
    "    tst_correct = 0\n",
    "    loss = 0\n",
    "\n",
    "    for b, (X_train, y_train) in enumerate(train_loader):\n",
    "        b += 1\n",
    "\n",
    "        y_pred = model(X_train)\n",
    "        loss = criterion(y_pred, y_train)\n",
    "\n",
    "        predictions = torch.max(y_pred, dim=1)[1]\n",
    "        trn_correct += (predictions == y_train).sum()\n",
    "\n",
    "        optimizer.zero_grad()\n",
    "        loss.backward()\n",
    "        optimizer.step()\n",
    "\n",
    "        if b % 600 == 0:\n",
    "            print(f'ecpoch: {i}, batch: {b} -> loss -> {loss}')\n",
    "\n",
    "    train_correct.append(trn_correct)\n",
    "    train_losses.append(loss)\n",
    "\n",
    "    with torch.no_grad():\n",
    "\n",
    "        for X_test, y_test in test_loader:\n",
    "\n",
    "            y_pred = model(X_test)\n",
    "            loss = criterion(y_pred, y_test)\n",
    "\n",
    "            predictions = torch.max(y_pred, dim=1)[1]\n",
    "            tst_correct += (predictions == y_test).sum()\n",
    "\n",
    "        test_correct.append(tst_correct)\n",
    "        test_losses.append(loss)"
   ],
   "metadata": {
    "collapsed": false,
    "pycharm": {
     "name": "#%%\n"
    }
   }
  },
  {
   "cell_type": "code",
   "execution_count": 26,
   "outputs": [
    {
     "data": {
      "text/plain": "<matplotlib.legend.Legend at 0x23fb9889970>"
     },
     "execution_count": 26,
     "metadata": {},
     "output_type": "execute_result"
    },
    {
     "data": {
      "text/plain": "<Figure size 432x288 with 1 Axes>",
      "image/png": "[encoded data removed]"
     },
     "metadata": {
      "needs_background": "light"
     },
     "output_type": "display_data"
    }
   ],
   "source": [
    "plt.plot([t/600 for t in train_correct], label=\"Train accuracy\")\n",
    "plt.plot([t/100 for t in test_correct], label=\"Test accuracy\")\n",
    "plt.legend()"
   ],
   "metadata": {
    "collapsed": false,
    "pycharm": {
     "name": "#%%\n"
    }
   }
  },
  {
   "cell_type": "code",
   "execution_count": 27,
   "outputs": [
    {
     "data": {
      "text/plain": "<matplotlib.legend.Legend at 0x23fb96dd160>"
     },
     "execution_count": 27,
     "metadata": {},
     "output_type": "execute_result"
    },
    {
     "data": {
      "text/plain": "<Figure size 432x288 with 1 Axes>",
      "image/png": "[encoded data removed]"
     },
     "metadata": {
      "needs_background": "light"
     },
     "output_type": "display_data"
    }
   ],
   "source": [
    "plt.plot(train_losses, label=\"Train losses\")\n",
    "plt.plot(test_losses, label=\"Test losses\")\n",
    "plt.legend()"
   ],
   "metadata": {
    "collapsed": false,
    "pycharm": {
     "name": "#%%\n"
    }
   }
  },
  {
   "cell_type": "code",
   "execution_count": 43,
   "outputs": [],
   "source": [
    "test_all_data = DataLoader(test_data, batch_size=10_000, shuffle=False)\n",
    "predictions = []\n",
    "with torch.no_grad():\n",
    "\n",
    "    for X_test, y_test in test_all_data:\n",
    "\n",
    "        y_pred = model(X_test)\n",
    "\n",
    "        predictions = torch.max(y_pred, dim=1)[1]"
   ],
   "metadata": {
    "collapsed": false,
    "pycharm": {
     "name": "#%%\n"
    }
   }
  },
  {
   "cell_type": "code",
   "execution_count": 63,
   "outputs": [
    {
     "data": {
      "text/plain": "<Figure size 720x432 with 2 Axes>",
      "image/png": "[encoded data removed]"
     },
     "metadata": {
      "needs_background": "light"
     },
     "output_type": "display_data"
    }
   ],
   "source": [
    "# Confusion matrix.\n",
    "arr = confusion_matrix(y_test.view(-1), predictions.view(-1))\n",
    "df = pd.DataFrame(arr, range(10), range(10))\n",
    "plt.figure(figsize=(10, 6))\n",
    "sn.heatmap(df, annot=True, cmap='GnBu', fmt='d')\n",
    "plt.xlabel('Predictions')\n",
    "plt.ylabel('Ground truth')\n",
    "plt.show()"
   ],
   "metadata": {
    "collapsed": false,
    "pycharm": {
     "name": "#%%\n"
    }
   }
  },
  {
   "cell_type": "code",
   "execution_count": null,
   "outputs": [],
   "source": [
    "\n"
   ],
   "metadata": {
    "collapsed": false,
    "pycharm": {
     "name": "#%%\n"
    }
   }
  }
 ],
 "metadata": {
  "kernelspec": {
   "name": "pycharm-a503b19",
   "language": "python",
   "display_name": "PyCharm (pytorch-tute)"
  },
  "language_info": {
   "codemirror_mode": {
    "name": "ipython",
    "version": 2
   },
   "file_extension": ".py",
   "mimetype": "text/x-python",
   "name": "python",
   "nbconvert_exporter": "python",
   "pygments_lexer": "ipython2",
   "version": "2.7.6"
  }
 },
 "nbformat": 4,
 "nbformat_minor": 0
}