{
 "cells": [
  {
   "cell_type": "code",
   "execution_count": 1,
   "metadata": {},
   "outputs": [],
   "source": [
    "import torch\n",
    "import numpy as np\n",
    "import torch.nn as nn\n",
    "import matplotlib.pyplot as plt"
   ]
  },
  {
   "cell_type": "code",
   "execution_count": 2,
   "metadata": {},
   "outputs": [],
   "source": [
    "X = torch.linspace(1, 50, 50).reshape(-1, 1)"
   ]
  },
  {
   "cell_type": "code",
   "execution_count": 3,
   "metadata": {},
   "outputs": [
    {
     "data": {
      "text/plain": "<torch._C.Generator at 0x2306b5c44d0>"
     },
     "execution_count": 3,
     "metadata": {},
     "output_type": "execute_result"
    }
   ],
   "source": [
    "torch.manual_seed(71)"
   ]
  },
  {
   "cell_type": "code",
   "execution_count": 4,
   "metadata": {},
   "outputs": [],
   "source": [
    "e = torch.randint(-8, 9, (50, 1), dtype=torch.float)"
   ]
  },
  {
   "cell_type": "code",
   "execution_count": 5,
   "metadata": {},
   "outputs": [],
   "source": [
    "y = 2 * X + 1 + e"
   ]
  },
  {
   "cell_type": "code",
   "execution_count": 6,
   "metadata": {},
   "outputs": [
    {
     "data": {
      "text/plain": "<matplotlib.collections.PathCollection at 0x2306cc40c70>"
     },
     "execution_count": 6,
     "metadata": {},
     "output_type": "execute_result"
    },
    {
     "data": {
      "text/plain": "<Figure size 432x288 with 1 Axes>",
      "image/png": "[encoded data removed]"
     },
     "metadata": {
      "needs_background": "light"
     },
     "output_type": "display_data"
    }
   ],
   "source": [
    "plt.scatter(X.numpy(), y.numpy())"
   ]
  },
  {
   "cell_type": "code",
   "execution_count": 7,
   "metadata": {},
   "outputs": [
    {
     "data": {
      "text/plain": "tensor([ 0.0000,  1.0204,  2.0408,  3.0612,  4.0816,  5.1020,  6.1224,  7.1429,\n         8.1633,  9.1837, 10.2041, 11.2245, 12.2449, 13.2653, 14.2857, 15.3061,\n        16.3265, 17.3469, 18.3673, 19.3878, 20.4082, 21.4286, 22.4490, 23.4694,\n        24.4898, 25.5102, 26.5306, 27.5510, 28.5714, 29.5918, 30.6122, 31.6327,\n        32.6531, 33.6735, 34.6939, 35.7143, 36.7347, 37.7551, 38.7755, 39.7959,\n        40.8163, 41.8367, 42.8571, 43.8776, 44.8980, 45.9184, 46.9388, 47.9592,\n        48.9796, 50.0000])"
     },
     "execution_count": 7,
     "metadata": {},
     "output_type": "execute_result"
    }
   ],
   "source": [
    "# Check how to perform this simple Linear model against random integers between 0 - 50 predicting y.\n",
    "x1 = torch.linspace(0, 50, 50)\n",
    "x1"
   ]
  },
  {
   "cell_type": "code",
   "execution_count": 8,
   "outputs": [],
   "source": [
    "# Calculate y1 with custom weight and bias.\n",
    "w1 = 0.10597813129425049    # Very first weigh declaration.\n",
    "b1 = 0.9637961387634277     # Very first bias declaration."
   ],
   "metadata": {
    "collapsed": false,
    "pycharm": {
     "name": "#%%\n"
    }
   }
  },
  {
   "cell_type": "code",
   "execution_count": 9,
   "outputs": [],
   "source": [
    "y1 = (x1 * w1) + b1"
   ],
   "metadata": {
    "collapsed": false,
    "pycharm": {
     "name": "#%%\n"
    }
   }
  },
  {
   "cell_type": "code",
   "execution_count": 10,
   "outputs": [
    {
     "data": {
      "text/plain": "[<matplotlib.lines.Line2D at 0x2306ccf4280>]"
     },
     "execution_count": 10,
     "metadata": {},
     "output_type": "execute_result"
    },
    {
     "data": {
      "text/plain": "<Figure size 432x288 with 1 Axes>",
      "image/png": "[encoded data removed]"
     },
     "metadata": {
      "needs_background": "light"
     },
     "output_type": "display_data"
    }
   ],
   "source": [
    "# Plot a graph for this agains original values.\n",
    "plt.scatter(X.numpy(), y.numpy()) # Original values.\n",
    "plt.plot(x1, y1, 'r')    # First goes 'X' axis then 'Y' axis."
   ],
   "metadata": {
    "collapsed": false,
    "pycharm": {
     "name": "#%%\n"
    }
   }
  },
  {
   "cell_type": "code",
   "execution_count": 11,
   "outputs": [],
   "source": [
    "# Model to train. (Refer the file 'linear_regression.py')\n",
    "class Model(nn.Module):\n",
    "\n",
    "    def __init__(self, in_features, out_features):\n",
    "        super().__init__()\n",
    "        self.linear = nn.Linear(in_features, out_features)\n",
    "\n",
    "    def forward(self, x):\n",
    "        py_predicted = self.linear(x)\n",
    "        return py_predicted"
   ],
   "metadata": {
    "collapsed": false,
    "pycharm": {
     "name": "#%%\n"
    }
   }
  },
  {
   "cell_type": "code",
   "execution_count": 12,
   "outputs": [
    {
     "data": {
      "text/plain": "Model(\n  (linear): Linear(in_features=1, out_features=1, bias=True)\n)"
     },
     "execution_count": 12,
     "metadata": {},
     "output_type": "execute_result"
    }
   ],
   "source": [
    "model = Model(1, 1)\n",
    "model\n"
   ],
   "metadata": {
    "collapsed": false,
    "pycharm": {
     "name": "#%%\n"
    }
   }
  },
  {
   "cell_type": "code",
   "execution_count": 13,
   "outputs": [
    {
     "data": {
      "text/plain": "(-0.5688724517822266, -0.03454399108886719)"
     },
     "execution_count": 13,
     "metadata": {},
     "output_type": "execute_result"
    }
   ],
   "source": [
    "name, param = model.parameters()\n",
    "name.item(), param.item() # Tuple"
   ],
   "metadata": {
    "collapsed": false,
    "pycharm": {
     "name": "#%%\n"
    }
   }
  },
  {
   "cell_type": "code",
   "execution_count": 14,
   "outputs": [
    {
     "name": "stdout",
     "output_type": "stream",
     "text": [
      "epoch: 1, loss: 5759.10107421875, weight: -0.5688724517822266, bias: -0.03454399108886719\n",
      "epoch: 2, loss: 2983.8740234375, weight: 3.869683265686035, bias: 0.09853759407997131\n",
      "epoch: 3, loss: 1551.1226806640625, weight: 0.6804516315460205, bias: 0.004986658692359924\n",
      "epoch: 4, loss: 811.4431762695312, weight: 2.9719016551971436, bias: 0.07427366822957993\n",
      "epoch: 5, loss: 429.57305908203125, weight: 1.325398325920105, bias: 0.02655813843011856\n",
      "epoch: 6, loss: 232.42645263671875, weight: 2.5083751678466797, bias: 0.06290970742702484\n",
      "epoch: 7, loss: 130.645751953125, weight: 1.6583266258239746, bias: 0.03885675221681595\n",
      "epoch: 8, loss: 78.09941101074219, weight: 2.269038200378418, bias: 0.05820438265800476\n",
      "epoch: 9, loss: 50.97089385986328, weight: 1.8301711082458496, bias: 0.04636702686548233\n",
      "epoch: 10, loss: 36.964725494384766, weight: 2.1454427242279053, bias: 0.056935567408800125\n",
      "epoch: 11, loss: 29.73311996459961, weight: 1.918853759765625, bias: 0.051404114812612534\n",
      "epoch: 12, loss: 25.998994827270508, weight: 2.0816001892089844, bias: 0.057439763098955154\n",
      "epoch: 13, loss: 24.070512771606445, weight: 1.9646031856536865, bias: 0.055163271725177765\n",
      "epoch: 14, loss: 23.0742130279541, weight: 2.0486061573028564, bias: 0.05885818600654602\n",
      "epoch: 15, loss: 22.559154510498047, weight: 1.988187551498413, bias: 0.058261554688215256\n",
      "epoch: 16, loss: 22.29256820678711, weight: 2.031538248062134, bias: 0.06074747070670128\n",
      "epoch: 17, loss: 22.154233932495117, weight: 2.00032901763916, bias: 0.06101752445101738\n",
      "epoch: 18, loss: 22.082138061523438, weight: 2.0226922035217285, bias: 0.06287870556116104\n",
      "epoch: 19, loss: 22.044218063354492, weight: 2.0065627098083496, bias: 0.06359564512968063\n",
      "epoch: 20, loss: 22.02395248413086, weight: 2.0180912017822266, bias: 0.06513375788927078\n",
      "epoch: 21, loss: 22.012802124023438, weight: 2.009746789932251, bias: 0.06608083844184875\n",
      "epoch: 22, loss: 22.006357192993164, weight: 2.015681505203247, bias: 0.0674515888094902\n",
      "epoch: 23, loss: 22.002344131469727, weight: 2.0113563537597656, bias: 0.06851693242788315\n",
      "epoch: 24, loss: 21.99958038330078, weight: 2.0144031047821045, bias: 0.0698007196187973\n",
      "epoch: 25, loss: 21.99747085571289, weight: 2.012153148651123, bias: 0.07092656195163727\n",
      "epoch: 26, loss: 21.995695114135742, weight: 2.01370906829834, bias: 0.07216490060091019\n",
      "epoch: 27, loss: 21.99408531188965, weight: 2.0125300884246826, bias: 0.07332140952348709\n",
      "epoch: 28, loss: 21.99258041381836, weight: 2.0133166313171387, bias: 0.07453573495149612\n",
      "epoch: 29, loss: 21.991113662719727, weight: 2.012690544128418, bias: 0.07570751011371613\n",
      "epoch: 30, loss: 21.989675521850586, weight: 2.013079881668091, bias: 0.07690887898206711\n",
      "epoch: 31, loss: 21.988252639770508, weight: 2.0127391815185547, bias: 0.07808798551559448\n",
      "epoch: 32, loss: 21.986835479736328, weight: 2.0129234790802, bias: 0.07928211241960526\n",
      "epoch: 33, loss: 21.985414505004883, weight: 2.012730360031128, bias: 0.0804644525051117\n",
      "epoch: 34, loss: 21.9840087890625, weight: 2.0128085613250732, bias: 0.08165427297353745\n",
      "epoch: 35, loss: 21.98259925842285, weight: 2.0126917362213135, bias: 0.08283772319555283\n",
      "epoch: 36, loss: 21.981189727783203, weight: 2.0127153396606445, bias: 0.08402476459741592\n",
      "epoch: 37, loss: 21.979787826538086, weight: 2.0126378536224365, bias: 0.0852082297205925\n",
      "epoch: 38, loss: 21.978384017944336, weight: 2.0126330852508545, bias: 0.08639328181743622\n",
      "epoch: 39, loss: 21.976987838745117, weight: 2.012576103210449, bias: 0.08757621049880981\n",
      "epoch: 40, loss: 21.9755859375, weight: 2.012556552886963, bias: 0.08875967562198639\n",
      "epoch: 41, loss: 21.97418212890625, weight: 2.012510061264038, bias: 0.08994176983833313\n",
      "epoch: 42, loss: 21.9727840423584, weight: 2.0124831199645996, bias: 0.09112387150526047\n",
      "epoch: 43, loss: 21.971391677856445, weight: 2.012442111968994, bias: 0.09230498224496841\n",
      "epoch: 44, loss: 21.969995498657227, weight: 2.01241135597229, bias: 0.09348582476377487\n",
      "epoch: 45, loss: 21.968603134155273, weight: 2.012373447418213, bias: 0.09466587752103806\n",
      "epoch: 46, loss: 21.967208862304688, weight: 2.0123403072357178, bias: 0.09584549814462662\n",
      "epoch: 47, loss: 21.965810775756836, weight: 2.0123038291931152, bias: 0.09702444821596146\n",
      "epoch: 48, loss: 21.964426040649414, weight: 2.012269973754883, bias: 0.0982029065489769\n",
      "epoch: 49, loss: 21.963041305541992, weight: 2.0122339725494385, bias: 0.0993807315826416\n",
      "epoch: 50, loss: 21.961658477783203, weight: 2.012199878692627, bias: 0.10055803507566452\n"
     ]
    },
    {
     "data": {
      "text/plain": "Text(0, 0.5, 'MSE Losses')"
     },
     "execution_count": 14,
     "metadata": {},
     "output_type": "execute_result"
    },
    {
     "data": {
      "text/plain": "<Figure size 432x288 with 1 Axes>",
      "image/png": "[encoded data removed]"
     },
     "metadata": {
      "needs_background": "light"
     },
     "output_type": "display_data"
    }
   ],
   "source": [
    "# LEARN WITH NEURAL NETWORK - Model class.\n",
    "criterion = nn.MSELoss()    # Loss function.\n",
    "# Stochastic Gradient Descent.\n",
    "optimizer = torch.optim.SGD(model.parameters(), lr=0.001)\n",
    "\n",
    "epochs = 50 # Number of training rounds\n",
    "losses = [] # Losses record into this list.\n",
    "\n",
    "for i in range(epochs):\n",
    "    i += 1  # End the loop.\n",
    "\n",
    "    # Predict on the forward pass.\n",
    "    y_predict = model.forward(X)\n",
    "    # Calculate the loss function.\n",
    "    loss = criterion(y_predict, y)\n",
    "\n",
    "    # Record loss values.\n",
    "    losses.append(loss)\n",
    "    print(f\"epoch: {i}, loss: {loss}, weight: {model.linear.weight.item()}, bias: {model.linear.bias.item()}\")\n",
    "\n",
    "    # Zero out the gradient.\n",
    "    optimizer.zero_grad()\n",
    "\n",
    "    # Back propagate the loss.\n",
    "    loss.backward()\n",
    "    # Update hyper parameters (weight and bias in this case) of the model.\n",
    "    optimizer.step()\n",
    "\n",
    "plt.plot(range(epochs), losses)\n",
    "plt.xlabel(\"Epochs\")\n",
    "plt.ylabel(\"MSE Losses\")\n"
   ],
   "metadata": {
    "collapsed": false,
    "pycharm": {
     "name": "#%%\n"
    }
   }
  },
  {
   "cell_type": "code",
   "execution_count": 15,
   "outputs": [
    {
     "data": {
      "text/plain": "[<matplotlib.lines.Line2D at 0x2306dd83970>]"
     },
     "execution_count": 15,
     "metadata": {},
     "output_type": "execute_result"
    },
    {
     "data": {
      "text/plain": "<Figure size 432x288 with 1 Axes>",
      "image/png": "[encoded data removed]"
     },
     "metadata": {
      "needs_background": "light"
     },
     "output_type": "display_data"
    }
   ],
   "source": [
    "# Test trained data.\n",
    "x = np.linspace(0., 50., 50)\n",
    "current_weight = model.linear.weight.item()\n",
    "current_bias = model.linear.bias.item()\n",
    "\n",
    "y_prediction = current_weight * x + current_bias\n",
    "\n",
    "# Plot predicted 'y'.\n",
    "plt.scatter(x, y)\n",
    "plt.plot(x, y_prediction, 'r')\n"
   ],
   "metadata": {
    "collapsed": false,
    "pycharm": {
     "name": "#%%\n"
    }
   }
  },
  {
   "cell_type": "code",
   "execution_count": 15,
   "metadata": {},
   "outputs": [],
   "source": []
  }
 ],
 "metadata": {
  "kernelspec": {
   "name": "pycharm-a503b19",
   "language": "python",
   "display_name": "PyCharm (pytorch-tute)"
  },
  "language_info": {
   "codemirror_mode": {
    "name": "ipython",
    "version": 3
   },
   "file_extension": ".py",
   "mimetype": "text/x-python",
   "name": "python",
   "nbconvert_exporter": "python",
   "pygments_lexer": "ipython3",
   "version": "3.8.2"
  }
 },
 "nbformat": 4,
 "nbformat_minor": 4
}